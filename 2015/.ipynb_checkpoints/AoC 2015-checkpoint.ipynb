{
 "cells": [
  {
   "cell_type": "code",
   "execution_count": 22,
   "metadata": {},
   "outputs": [
    {
     "ename": "TypeError",
     "evalue": "'dict' object is not callable",
     "output_type": "error",
     "traceback": [
      "\u001b[1;31m---------------------------------------------------------------------------\u001b[0m",
      "\u001b[1;31mTypeError\u001b[0m                                 Traceback (most recent call last)",
      "\u001b[1;32m<ipython-input-22-09160c336ef2>\u001b[0m in \u001b[0;36m<module>\u001b[1;34m\u001b[0m\n\u001b[0;32m     28\u001b[0m                 \u001b[1;32mcontinue\u001b[0m\u001b[1;33m\u001b[0m\u001b[1;33m\u001b[0m\u001b[0m\n\u001b[0;32m     29\u001b[0m         \u001b[1;32melif\u001b[0m \u001b[0mconn\u001b[0m\u001b[1;33m[\u001b[0m\u001b[0mc\u001b[0m\u001b[1;33m]\u001b[0m\u001b[1;33m[\u001b[0m\u001b[1;36m1\u001b[0m\u001b[1;33m]\u001b[0m \u001b[1;33m==\u001b[0m \u001b[1;34m'LSHIFT'\u001b[0m\u001b[1;33m:\u001b[0m\u001b[1;33m\u001b[0m\u001b[1;33m\u001b[0m\u001b[0m\n\u001b[1;32m---> 30\u001b[1;33m             \u001b[1;32mif\u001b[0m \u001b[0msignals\u001b[0m\u001b[1;33m(\u001b[0m\u001b[0mconn\u001b[0m\u001b[1;33m[\u001b[0m\u001b[0mc\u001b[0m\u001b[1;33m]\u001b[0m\u001b[1;33m[\u001b[0m\u001b[1;36m0\u001b[0m\u001b[1;33m]\u001b[0m\u001b[1;33m)\u001b[0m \u001b[1;33m==\u001b[0m \u001b[1;32mNone\u001b[0m\u001b[1;33m:\u001b[0m\u001b[1;33m\u001b[0m\u001b[1;33m\u001b[0m\u001b[0m\n\u001b[0m\u001b[0;32m     31\u001b[0m                 \u001b[1;32mcontinue\u001b[0m\u001b[1;33m\u001b[0m\u001b[1;33m\u001b[0m\u001b[0m\n\u001b[0;32m     32\u001b[0m             \u001b[1;32melse\u001b[0m\u001b[1;33m:\u001b[0m\u001b[1;33m\u001b[0m\u001b[1;33m\u001b[0m\u001b[0m\n",
      "\u001b[1;31mTypeError\u001b[0m: 'dict' object is not callable"
     ]
    }
   ],
   "source": [
    "## Day 7 ##\n",
    "\n",
    "d7i = open(\"D7i.txt\",\"r\")\n",
    "lines = d7i.read().splitlines()\n",
    "d7i.close\n",
    "\n",
    "signals = {}\n",
    "conn = []\n",
    "\n",
    "lines = ['123 -> x','456 -> y','x AND y -> d','x OR y -> e','x LSHIFT 2 -> f','y RSHIFT 2 -> g','NOT x -> h','NOT y -> i']\n",
    "\n",
    "for i in lines:\n",
    "    instr = i.split()\n",
    "    instr.pop(-2)\n",
    "    conn.append(instr)\n",
    "    \n",
    "for i in conn:\n",
    "    signals[i[-1]] = None\n",
    "\n",
    "while len(conn) > 0:\n",
    "    for c in range(len(conn)):\n",
    "        if conn[c][0] == 'NOT':\n",
    "            if signals[conn[c][1]] == None:\n",
    "                continue\n",
    "            else:\n",
    "                signals[conn[c][-1]] = ~signals[conn[c][1]]\n",
    "                conn.pop(c)\n",
    "                continue\n",
    "        elif conn[c][1] == 'LSHIFT':\n",
    "            if signals[conn[c][0]] == None:\n",
    "                continue\n",
    "            else:\n",
    "                signals[conn[c][-1]] = signals[conn[c][0]] << int(conn[c][2])\n",
    "                conn.pop(c)\n",
    "                continue\n",
    "        elif conn[c][1] == 'RSHIFT':\n",
    "            if signals(conn[c][0]) == None:\n",
    "                continue\n",
    "            else:\n",
    "                signals[conn[c][-1]] = signals[conn[c][0]] >> int(conn[c][2])\n",
    "                conn.pop(c)\n",
    "                continue\n",
    "        elif conn[c][1] == 'OR':\n",
    "            if signals[conn[c][0]] or signals[conn[c][2]] == None:\n",
    "                continue\n",
    "            else:\n",
    "                a = signals[conn[c][0]] if conn[c][0] in signals.keys() else int(conn[c][0])\n",
    "                b = signals[conn[c][2]] if conn[c][2] in signals.keys() else int(conn[c][2])\n",
    "                signals[conn[c][-1]] = a | b\n",
    "                conn.pop(c)\n",
    "                continue\n",
    "        elif conn[c][1] == 'AND':\n",
    "            if signals[conn[c][0]] or signals[conn[c][2]] == None:\n",
    "                continue\n",
    "            else:\n",
    "                a = signals[conn[c][0]] if conn[c][0] in signals.keys() else int(conn[c][0])\n",
    "                b = signals[conn[c][2]] if conn[c][2] in signals.keys() else int(conn[c][2])\n",
    "                signals[conn[c][-1]] = a & b\n",
    "                conn.pop(c)\n",
    "                continue\n",
    "        else:\n",
    "            signals[conn[c][-1]] = signals[conn[c][0]] if conn[c][0] in signals.keys() else int(conn[c][0])\n",
    "            conn.pop(c)\n",
    "\n",
    "display(signals)\n",
    "display(conn)"
   ]
  },
  {
   "cell_type": "code",
   "execution_count": 10,
   "metadata": {},
   "outputs": [
    {
     "name": "stdout",
     "output_type": "stream",
     "text": [
      "Part 1:\n",
      "543903\n",
      "\n",
      "Part 2:\n",
      "14687245\n"
     ]
    }
   ],
   "source": [
    "## Day 6 ##\n",
    "\n",
    "import numpy\n",
    "\n",
    "d6i = open(\"D6i.txt\",\"r\")\n",
    "lines = d6i.read().splitlines()\n",
    "d6i.close\n",
    "\n",
    "instructions = []\n",
    "\n",
    "for line in lines:\n",
    "    instruction = line.split()[-4:]\n",
    "    instruction.pop(2)\n",
    "    instruction[1] = [int(x) for x in instruction[1].split(',')]\n",
    "    instruction[2] = [int(x) for x in instruction[2].split(',')]\n",
    "    instructions.append(instruction)\n",
    "\n",
    "    \n",
    "lights = numpy.zeros((1000,1000))\n",
    "\n",
    "for instruction in instructions:\n",
    "    comm = instruction[0]\n",
    "    begin = instruction[1]\n",
    "    end = instruction[2]\n",
    "    \n",
    "    if comm == 'on':\n",
    "        for i in range(begin[0],end[0]+1):\n",
    "            for j in range(begin[1],end[1]+1):\n",
    "                lights[i][j] = 1\n",
    "    elif comm == 'off':\n",
    "        for i in range(begin[0],end[0]+1):\n",
    "            for j in range(begin[1],end[1]+1):\n",
    "                lights[i][j] = 0\n",
    "    elif comm == 'toggle':\n",
    "        for i in range(begin[0],end[0]+1):\n",
    "            for j in range(begin[1],end[1]+1):\n",
    "                lights[i][j] = int(lights[i][j]) ^ 1\n",
    "\n",
    "print('Part 1:')\n",
    "print(int(numpy.sum(lights)))\n",
    "\n",
    "lights = numpy.zeros((1000,1000))\n",
    "\n",
    "for instruction in instructions:\n",
    "    comm = instruction[0]\n",
    "    begin = instruction[1]\n",
    "    end = instruction[2]\n",
    "    \n",
    "    if comm == 'on':\n",
    "        for i in range(begin[0],end[0]+1):\n",
    "            for j in range(begin[1],end[1]+1):\n",
    "                lights[i][j] += 1\n",
    "    elif comm == 'off':\n",
    "        for i in range(begin[0],end[0]+1):\n",
    "            for j in range(begin[1],end[1]+1):\n",
    "                if lights[i][j] != 0:\n",
    "                    lights[i][j] -= 1\n",
    "    elif comm == 'toggle':\n",
    "        for i in range(begin[0],end[0]+1):\n",
    "            for j in range(begin[1],end[1]+1):\n",
    "                lights[i][j] += 2\n",
    "        \n",
    "print('\\nPart 2:')\n",
    "print(int(numpy.sum(lights)))"
   ]
  },
  {
   "cell_type": "code",
   "execution_count": 35,
   "metadata": {},
   "outputs": [
    {
     "name": "stdout",
     "output_type": "stream",
     "text": [
      "Nice strings in part 1: 258\n",
      "Nice strings in part 2: 53\n"
     ]
    }
   ],
   "source": [
    "## Day 5 ##\n",
    "\n",
    "d5i = open(\"D5i.txt\",\"r\")\n",
    "lines = d5i.read().splitlines()\n",
    "d5i.close\n",
    "\n",
    "\n",
    "# Part 1 \n",
    "forbidden = ['ab','cd','pq','xy']\n",
    "doubles = ['aa','bb','cc','dd','ee','ff','gg','hh','ii','jj','kk','ll','mm','nn','oo','pp','qq','rr','ss','tt','uu','vv','ww','xx','yy','zz']\n",
    "vowels = 'aeiou'\n",
    "\n",
    "i = 0\n",
    "for line in lines:\n",
    "    if not(any(x in line for x in forbidden)) and any(x in line for x in doubles):\n",
    "        vcount = 0\n",
    "        for vowel in vowels:\n",
    "            vcount += line.count(vowel)\n",
    "        if vcount > 2:\n",
    "            i += 1\n",
    "\n",
    "print('Nice strings in part 1: '+str(i))\n",
    "\n",
    "# Part 2\n",
    "\n",
    "i = 0\n",
    "for line in lines:\n",
    "    cond1 = False\n",
    "    cond2 = False\n",
    "    for j in range(len(line)-1):\n",
    "        if j<len(line)-2 and line[j] == line[j+2]:\n",
    "            cond1 = True\n",
    "        linel = line[:j]\n",
    "        liner = line[j+2:]\n",
    "        dub = line[j]+line[j+1]\n",
    "        if (dub in linel) or (dub in liner):\n",
    "            cond2 = True\n",
    "    if cond1 and cond2:\n",
    "        i += 1\n",
    "\n",
    "\n",
    "print('Nice strings in part 2: '+str(i))"
   ]
  },
  {
   "cell_type": "code",
   "execution_count": 1,
   "metadata": {},
   "outputs": [
    {
     "name": "stdout",
     "output_type": "stream",
     "text": [
      "5 zeros\n",
      "Input: iwrupvqb346386\n",
      "Hash: 0000045c5e2b3911eb937d9d8c574f09\n",
      "Seed: 346386\n",
      "\n",
      "6 zeros\n",
      "Input: iwrupvqb9958218\n",
      "Hash: 00000094434e1914548b3a1af245fb27\n",
      "Seed: 9958218\n"
     ]
    }
   ],
   "source": [
    "## Day 4 ##\n",
    "import hashlib\n",
    "input = 'iwrupvqb'\n",
    "\n",
    "i = 1;\n",
    "hash = hashlib.md5(input.encode()).hexdigest()\n",
    "\n",
    "\n",
    "while hash[0:5] != '00000' :\n",
    "    i += 1\n",
    "    inputmod = input + str(i)\n",
    "    hash = hashlib.md5(inputmod.encode()).hexdigest()\n",
    "\n",
    "print('5 zeros')\n",
    "print('Input: '+inputmod)\n",
    "print('Hash: '+str(hash))\n",
    "print('Seed: '+str(i))\n",
    "\n",
    "while hash[0:6] != '000000' :\n",
    "    i += 1\n",
    "    inputmod = input + str(i)\n",
    "    hash = hashlib.md5(inputmod.encode()).hexdigest()\n",
    "\n",
    "print('\\n6 zeros')\n",
    "print('Input: '+inputmod)\n",
    "print('Hash: '+str(hash))\n",
    "print('Seed: '+str(i))"
   ]
  },
  {
   "cell_type": "code",
   "execution_count": 6,
   "metadata": {},
   "outputs": [
    {
     "data": {
      "text/plain": [
       "2341"
      ]
     },
     "metadata": {},
     "output_type": "display_data"
    }
   ],
   "source": [
    "## DAY 3 ##\n",
    "\n",
    "d3i = open(\"D3i.txt\",\"r\")\n",
    "instr = d3i.read()\n",
    "d3i.close\n",
    "\n",
    "i = 0\n",
    "j = 0\n",
    "k = 0\n",
    "l = 0\n",
    "count = 0\n",
    "\n",
    "\n",
    "houses = [str(i)+','+str(j)]\n",
    "houses.append(str(k)+','+str(l))\n",
    "\n",
    "for dir in instr:\n",
    "    if count%2 == 0:\n",
    "        if dir == '<':\n",
    "            i -= 1\n",
    "        elif dir == '>':\n",
    "            i += 1\n",
    "        elif dir == '^':\n",
    "            j += 1\n",
    "        elif dir == 'v':\n",
    "            j -=1\n",
    "        houses.append(str(i)+','+str(j))\n",
    "    else:\n",
    "        if dir == '<':\n",
    "            k -= 1\n",
    "        elif dir == '>':\n",
    "            k += 1\n",
    "        elif dir == '^':\n",
    "            l += 1\n",
    "        elif dir == 'v':\n",
    "            l -=1\n",
    "        houses.append(str(k)+','+str(l))\n",
    "    count += 1\n",
    "    \n",
    "uhouse = list(set(houses))\n",
    "display(len(uhouse))"
   ]
  },
  {
   "cell_type": "code",
   "execution_count": 24,
   "metadata": {},
   "outputs": [
    {
     "data": {
      "text/plain": [
       "1588178"
      ]
     },
     "metadata": {},
     "output_type": "display_data"
    },
    {
     "data": {
      "text/plain": [
       "3783758"
      ]
     },
     "metadata": {},
     "output_type": "display_data"
    }
   ],
   "source": [
    "## DAY 2 ##\n",
    "\n",
    "d2i = open(\"D2i.txt\",\"r\")\n",
    "lines = d2i.read().splitlines()\n",
    "d2i.close\n",
    "\n",
    "area = 0\n",
    "bow = 0\n",
    "\n",
    "for pack in lines:\n",
    "    dim = [int(i) for i in pack.split('x')]\n",
    "    area += 2*dim[0]*dim[1]+2*dim[1]*dim[2]+2*dim[0]*dim[2] + min(dim[0]*dim[1],dim[0]*dim[2],dim[1]*dim[2])\n",
    "    bow += min(2*(dim[0]+dim[1]),2*(dim[1]+dim[2]),2*(dim[0]+dim[2])) + dim[1]*dim[2]*dim[0]\n",
    "    \n",
    "display(area)\n",
    "display(bow)"
   ]
  },
  {
   "cell_type": "code",
   "execution_count": 13,
   "metadata": {},
   "outputs": [
    {
     "data": {
      "text/plain": [
       "1795"
      ]
     },
     "metadata": {},
     "output_type": "display_data"
    },
    {
     "data": {
      "text/plain": [
       "74"
      ]
     },
     "metadata": {},
     "output_type": "display_data"
    }
   ],
   "source": [
    "## DAY 1 ##\n",
    "\n",
    "d1i = open(\"D1i.txt\",\"r\")\n",
    "instr = d1i.read ()\n",
    "d1i.close\n",
    "\n",
    "floor = 0;\n",
    "ind = 1;\n",
    "notshown = True\n",
    "\n",
    "for i in instr:\n",
    "    if i == '(':\n",
    "        floor += 1\n",
    "    elif i == ')':\n",
    "        floor -= 1\n",
    "    if floor < 0 and notshown:\n",
    "        display(ind)\n",
    "        notshown = False\n",
    "    ind +=1\n",
    "    \n",
    "display(floor)"
   ]
  }
 ],
 "metadata": {
  "kernelspec": {
   "display_name": "Python 3",
   "language": "python",
   "name": "python3"
  },
  "language_info": {
   "codemirror_mode": {
    "name": "ipython",
    "version": 3
   },
   "file_extension": ".py",
   "mimetype": "text/x-python",
   "name": "python",
   "nbconvert_exporter": "python",
   "pygments_lexer": "ipython3",
   "version": "3.8.3"
  }
 },
 "nbformat": 4,
 "nbformat_minor": 4
}
