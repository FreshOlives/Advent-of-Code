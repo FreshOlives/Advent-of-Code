{
 "cells": [
  {
   "cell_type": "code",
   "execution_count": 33,
   "metadata": {},
   "outputs": [
    {
     "name": "stdout",
     "output_type": "stream",
     "text": [
      "Nice strings in part 1: 258\n"
     ]
    }
   ],
   "source": [
    "# Day 5 ##\n",
    "\n",
    "d5i = open(\"D5i.txt\",\"r\")\n",
    "lines = d5i.read().splitlines()\n",
    "d5i.close\n",
    "\n",
    "\n",
    "# Part 1 \n",
    "forbidden = ['ab','cd','pq','xy']\n",
    "doubles = ['aa','bb','cc','dd','ee','ff','gg','hh','ii','jj','kk','ll','mm','nn','oo','pp','qq','rr','ss','tt','uu','vv','ww','xx','yy','zz']\n",
    "vowels = 'aeiou'\n",
    "\n",
    "i = 0\n",
    "for line in lines:\n",
    "    if not(any(x in line for x in forbidden)) and any(x in line for x in doubles):\n",
    "        vcount = 0\n",
    "        for vowel in vowels:\n",
    "            vcount += line.count(vowel)\n",
    "        if vcount > 2:\n",
    "            i += 1\n",
    "\n",
    "print('Nice strings in part 1: '+str(i))\n",
    "\n",
    "# Part 2"
   ]
  },
  {
   "cell_type": "code",
   "execution_count": 1,
   "metadata": {},
   "outputs": [
    {
     "name": "stdout",
     "output_type": "stream",
     "text": [
      "5 zeros\n",
      "Input: iwrupvqb346386\n",
      "Hash: 0000045c5e2b3911eb937d9d8c574f09\n",
      "Seed: 346386\n",
      "\n",
      "6 zeros\n",
      "Input: iwrupvqb9958218\n",
      "Hash: 00000094434e1914548b3a1af245fb27\n",
      "Seed: 9958218\n"
     ]
    }
   ],
   "source": [
    "## Day 4 ##\n",
    "import hashlib\n",
    "input = 'iwrupvqb'\n",
    "\n",
    "i = 1;\n",
    "hash = hashlib.md5(input.encode()).hexdigest()\n",
    "\n",
    "\n",
    "while hash[0:5] != '00000' :\n",
    "    i += 1\n",
    "    inputmod = input + str(i)\n",
    "    hash = hashlib.md5(inputmod.encode()).hexdigest()\n",
    "\n",
    "print('5 zeros')\n",
    "print('Input: '+inputmod)\n",
    "print('Hash: '+str(hash))\n",
    "print('Seed: '+str(i))\n",
    "\n",
    "while hash[0:6] != '000000' :\n",
    "    i += 1\n",
    "    inputmod = input + str(i)\n",
    "    hash = hashlib.md5(inputmod.encode()).hexdigest()\n",
    "\n",
    "print('\\n6 zeros')\n",
    "print('Input: '+inputmod)\n",
    "print('Hash: '+str(hash))\n",
    "print('Seed: '+str(i))"
   ]
  },
  {
   "cell_type": "code",
   "execution_count": 6,
   "metadata": {},
   "outputs": [
    {
     "data": {
      "text/plain": [
       "2341"
      ]
     },
     "metadata": {},
     "output_type": "display_data"
    }
   ],
   "source": [
    "## DAY 3 ##\n",
    "\n",
    "d3i = open(\"D3i.txt\",\"r\")\n",
    "instr = d3i.read()\n",
    "d3i.close\n",
    "\n",
    "i = 0\n",
    "j = 0\n",
    "k = 0\n",
    "l = 0\n",
    "count = 0\n",
    "\n",
    "\n",
    "houses = [str(i)+','+str(j)]\n",
    "houses.append(str(k)+','+str(l))\n",
    "\n",
    "for dir in instr:\n",
    "    if count%2 == 0:\n",
    "        if dir == '<':\n",
    "            i -= 1\n",
    "        elif dir == '>':\n",
    "            i += 1\n",
    "        elif dir == '^':\n",
    "            j += 1\n",
    "        elif dir == 'v':\n",
    "            j -=1\n",
    "        houses.append(str(i)+','+str(j))\n",
    "    else:\n",
    "        if dir == '<':\n",
    "            k -= 1\n",
    "        elif dir == '>':\n",
    "            k += 1\n",
    "        elif dir == '^':\n",
    "            l += 1\n",
    "        elif dir == 'v':\n",
    "            l -=1\n",
    "        houses.append(str(k)+','+str(l))\n",
    "    count += 1\n",
    "    \n",
    "uhouse = list(set(houses))\n",
    "display(len(uhouse))"
   ]
  },
  {
   "cell_type": "code",
   "execution_count": 24,
   "metadata": {},
   "outputs": [
    {
     "data": {
      "text/plain": [
       "1588178"
      ]
     },
     "metadata": {},
     "output_type": "display_data"
    },
    {
     "data": {
      "text/plain": [
       "3783758"
      ]
     },
     "metadata": {},
     "output_type": "display_data"
    }
   ],
   "source": [
    "## DAY 2 ##\n",
    "\n",
    "d2i = open(\"D2i.txt\",\"r\")\n",
    "lines = d2i.read().splitlines()\n",
    "d2i.close\n",
    "\n",
    "area = 0\n",
    "bow = 0\n",
    "\n",
    "for pack in lines:\n",
    "    dim = [int(i) for i in pack.split('x')]\n",
    "    area += 2*dim[0]*dim[1]+2*dim[1]*dim[2]+2*dim[0]*dim[2] + min(dim[0]*dim[1],dim[0]*dim[2],dim[1]*dim[2])\n",
    "    bow += min(2*(dim[0]+dim[1]),2*(dim[1]+dim[2]),2*(dim[0]+dim[2])) + dim[1]*dim[2]*dim[0]\n",
    "    \n",
    "display(area)\n",
    "display(bow)"
   ]
  },
  {
   "cell_type": "code",
   "execution_count": 13,
   "metadata": {},
   "outputs": [
    {
     "data": {
      "text/plain": [
       "1795"
      ]
     },
     "metadata": {},
     "output_type": "display_data"
    },
    {
     "data": {
      "text/plain": [
       "74"
      ]
     },
     "metadata": {},
     "output_type": "display_data"
    }
   ],
   "source": [
    "## DAY 1 ##\n",
    "\n",
    "d1i = open(\"D1i.txt\",\"r\")\n",
    "instr = d1i.read ()\n",
    "d1i.close\n",
    "\n",
    "floor = 0;\n",
    "ind = 1;\n",
    "notshown = True\n",
    "\n",
    "for i in instr:\n",
    "    if i == '(':\n",
    "        floor += 1\n",
    "    elif i == ')':\n",
    "        floor -= 1\n",
    "    if floor < 0 and notshown:\n",
    "        display(ind)\n",
    "        notshown = False\n",
    "    ind +=1\n",
    "    \n",
    "display(floor)"
   ]
  }
 ],
 "metadata": {
  "kernelspec": {
   "display_name": "Python 3",
   "language": "python",
   "name": "python3"
  },
  "language_info": {
   "codemirror_mode": {
    "name": "ipython",
    "version": 3
   },
   "file_extension": ".py",
   "mimetype": "text/x-python",
   "name": "python",
   "nbconvert_exporter": "python",
   "pygments_lexer": "ipython3",
   "version": "3.8.3"
  }
 },
 "nbformat": 4,
 "nbformat_minor": 4
}
