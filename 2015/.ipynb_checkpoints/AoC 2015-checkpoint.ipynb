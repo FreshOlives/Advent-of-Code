{
 "cells": [
  {
   "cell_type": "markdown",
   "metadata": {},
   "source": [
    "# Day 9"
   ]
  },
  {
   "cell_type": "code",
   "execution_count": 4,
   "metadata": {},
   "outputs": [
    {
     "name": "stdout",
     "output_type": "stream",
     "text": [
      "shortest route:\n",
      "207\n",
      "longest route:\n",
      "804\n"
     ]
    }
   ],
   "source": [
    "d9i = open(\"D9i.txt\",\"r\")\n",
    "lines = d9i.read().splitlines()\n",
    "d9i.close()\n",
    "\n",
    "import re\n",
    "from itertools import permutations\n",
    "\n",
    "lines = [re.split(r' to | = ',x) for x in lines]\n",
    "\n",
    "distances = {}\n",
    "locations = set()\n",
    "\n",
    "for line in lines:\n",
    "    distances[line[0]+line[1]] = int(line[2])\n",
    "    distances[line[1]+line[0]] = int(line[2])\n",
    "    locations.add(line[0])\n",
    "    locations.add(line[1])\n",
    "    \n",
    "travels = []\n",
    "\n",
    "for path in permutations(locations):\n",
    "    dist = 0\n",
    "    for i in range(len(path)-1):\n",
    "        dist += distances[path[i]+path[i+1]]\n",
    "    travels.append(dist)\n",
    "\n",
    "print('shortest route:')\n",
    "print(min(travels))\n",
    "print('longest route:')\n",
    "print(max(travels))"
   ]
  },
  {
   "cell_type": "markdown",
   "metadata": {},
   "source": [
    "# Day 8"
   ]
  },
  {
   "cell_type": "code",
   "execution_count": null,
   "metadata": {},
   "outputs": [],
   "source": []
  },
  {
   "cell_type": "markdown",
   "metadata": {},
   "source": [
    "# Day 7"
   ]
  },
  {
   "cell_type": "code",
   "execution_count": 19,
   "metadata": {},
   "outputs": [
    {
     "name": "stdout",
     "output_type": "stream",
     "text": [
      "Signal a:\n",
      "40149\n"
     ]
    }
   ],
   "source": [
    "## Day 7 ##\n",
    "\n",
    "import re\n",
    "import numpy as np\n",
    "\n",
    "d7i = open(\"D7i.txt\",\"r\")\n",
    "lines = [re.split(r' -> | ',x) for x in d7i.read().splitlines()]\n",
    "d7i.close()\n",
    "\n",
    "signals = {}\n",
    "\n",
    "nots = []\n",
    "ands = []\n",
    "ors = []\n",
    "lshifts = []\n",
    "rshifts = []\n",
    "wires = []\n",
    "\n",
    "for line in lines:\n",
    "    if line[0] == 'NOT':\n",
    "        nots.append([line[1], line[2]])\n",
    "    elif line[1] == 'AND':\n",
    "        ands.append([line[0], line[2], line[3]])\n",
    "    elif line[1] == 'OR':\n",
    "        ors.append([line[0], line[2], line[3]])\n",
    "    elif line[1] == 'LSHIFT':\n",
    "        lshifts.append([line[0], line[2], line[3]])\n",
    "    elif line[1] == 'RSHIFT':\n",
    "        rshifts.append([line[0], line[2], line[3]])\n",
    "    elif line[0].isdigit():\n",
    "        signals[line[1]] = np.uint16(line[0])\n",
    "    else:\n",
    "        wires.append([line[0], line[1]])      \n",
    "\n",
    "# Next line is for part 2\n",
    "signals['b'] = 956\n",
    "# Previous line is for part 2\n",
    "        \n",
    "while not('a' in signals.keys()):\n",
    "    pops = []\n",
    "    for i in range(len(nots)):\n",
    "        if nots[i][0].isdigit() or nots[i][0] in signals.keys():\n",
    "            pops.append(i)\n",
    "            left = np.uint16(nots[i][0]) if nots[i][0].isdigit() else signals[nots[i][0]]\n",
    "            signals[nots[i][1]] = ~left\n",
    "    pops.sort(reverse=True)\n",
    "    for i in pops:\n",
    "        nots.pop(i)\n",
    "    \n",
    "    pops = []\n",
    "    for i in range(len(wires)):\n",
    "        if wires[i][0].isdigit() or wires[i][0] in signals.keys():\n",
    "            pops.append(i)\n",
    "            left = np.uint16(wires[i][0]) if wires[i][0].isdigit() else signals[wires[i][0]]\n",
    "            signals[wires[i][1]] = left\n",
    "    pops.sort(reverse=True)\n",
    "    for i in pops:\n",
    "        wires.pop(i)\n",
    "    \n",
    "    pops = []\n",
    "    for i in range(len(ands)):\n",
    "        if all([ands[i][0].isdigit() or ands[i][0] in signals.keys(), ands[i][1].isdigit() or ands[i][1] in signals.keys()]):\n",
    "            pops.append(i)\n",
    "            left = np.uint16(ands[i][0]) if ands[i][0].isdigit() else signals[ands[i][0]]\n",
    "            right = np.uint16(ands[i][1]) if ands[i][1].isdigit() else signals[ands[i][1]]\n",
    "            signals[ands[i][2]] = left & right\n",
    "    pops.sort(reverse=True)\n",
    "    for i in pops:\n",
    "        ands.pop(i)\n",
    "    \n",
    "    pops = []\n",
    "    for i in range(len(ors)):\n",
    "        if all([ors[i][0].isdigit() or ors[i][0] in signals.keys(), ors[i][1].isdigit() or ors[i][1] in signals.keys()]):\n",
    "            pops.append(i)\n",
    "            left = np.uint16(ors[i][0]) if ors[i][0].isdigit() else signals[ors[i][0]]\n",
    "            right = np.uint16(ors[i][1]) if ors[i][1].isdigit() else signals[ors[i][1]]\n",
    "            signals[ors[i][2]] = left | right\n",
    "    pops.sort(reverse=True)\n",
    "    for i in pops:\n",
    "        ors.pop(i)\n",
    "    \n",
    "    pops = []\n",
    "    for i in range(len(lshifts)):\n",
    "        if all([lshifts[i][0].isdigit() or lshifts[i][0] in signals.keys(), lshifts[i][1].isdigit() or lshifts[i][1] in signals.keys()]):\n",
    "            pops.append(i)\n",
    "            left = np.uint16(lshifts[i][0]) if lshifts[i][0].isdigit() else signals[lshifts[i][0]]\n",
    "            right = np.uint16(lshifts[i][1]) if lshifts[i][1].isdigit() else signals[lshifts[i][1]]\n",
    "            signals[lshifts[i][2]] = left << right\n",
    "    pops.sort(reverse=True)\n",
    "    for i in pops:\n",
    "        lshifts.pop(i)\n",
    "    \n",
    "    pops = []\n",
    "    for i in range(len(rshifts)):\n",
    "        if all([rshifts[i][0].isdigit() or rshifts[i][0] in signals.keys(), rshifts[i][1].isdigit() or rshifts[i][1] in signals.keys()]):\n",
    "            pops.append(i)\n",
    "            left = np.uint16(rshifts[i][0]) if rshifts[i][0].isdigit() else signals[rshifts[i][0]]\n",
    "            right = np.uint16(rshifts[i][1]) if rshifts[i][1].isdigit() else signals[rshifts[i][1]]\n",
    "            signals[rshifts[i][2]] = left >> right\n",
    "    pops.sort(reverse=True)\n",
    "    for i in pops:\n",
    "        rshifts.pop(i)\n",
    "    \n",
    "print('Signal a:')\n",
    "print(signals['a'])"
   ]
  },
  {
   "cell_type": "markdown",
   "metadata": {},
   "source": [
    "# Day 6"
   ]
  },
  {
   "cell_type": "code",
   "execution_count": 10,
   "metadata": {},
   "outputs": [
    {
     "name": "stdout",
     "output_type": "stream",
     "text": [
      "Part 1:\n",
      "543903\n",
      "\n",
      "Part 2:\n",
      "14687245\n"
     ]
    }
   ],
   "source": [
    "## Day 6 ##\n",
    "\n",
    "import numpy\n",
    "\n",
    "d6i = open(\"D6i.txt\",\"r\")\n",
    "lines = d6i.read().splitlines()\n",
    "d6i.close()\n",
    "\n",
    "instructions = []\n",
    "\n",
    "for line in lines:\n",
    "    instruction = line.split()[-4:]\n",
    "    instruction.pop(2)\n",
    "    instruction[1] = [int(x) for x in instruction[1].split(',')]\n",
    "    instruction[2] = [int(x) for x in instruction[2].split(',')]\n",
    "    instructions.append(instruction)\n",
    "\n",
    "    \n",
    "lights = numpy.zeros((1000,1000))\n",
    "\n",
    "for instruction in instructions:\n",
    "    comm = instruction[0]\n",
    "    begin = instruction[1]\n",
    "    end = instruction[2]\n",
    "    \n",
    "    if comm == 'on':\n",
    "        for i in range(begin[0],end[0]+1):\n",
    "            for j in range(begin[1],end[1]+1):\n",
    "                lights[i][j] = 1\n",
    "    elif comm == 'off':\n",
    "        for i in range(begin[0],end[0]+1):\n",
    "            for j in range(begin[1],end[1]+1):\n",
    "                lights[i][j] = 0\n",
    "    elif comm == 'toggle':\n",
    "        for i in range(begin[0],end[0]+1):\n",
    "            for j in range(begin[1],end[1]+1):\n",
    "                lights[i][j] = int(lights[i][j]) ^ 1\n",
    "\n",
    "print('Part 1:')\n",
    "print(int(numpy.sum(lights)))\n",
    "\n",
    "lights = numpy.zeros((1000,1000))\n",
    "\n",
    "for instruction in instructions:\n",
    "    comm = instruction[0]\n",
    "    begin = instruction[1]\n",
    "    end = instruction[2]\n",
    "    \n",
    "    if comm == 'on':\n",
    "        for i in range(begin[0],end[0]+1):\n",
    "            for j in range(begin[1],end[1]+1):\n",
    "                lights[i][j] += 1\n",
    "    elif comm == 'off':\n",
    "        for i in range(begin[0],end[0]+1):\n",
    "            for j in range(begin[1],end[1]+1):\n",
    "                if lights[i][j] != 0:\n",
    "                    lights[i][j] -= 1\n",
    "    elif comm == 'toggle':\n",
    "        for i in range(begin[0],end[0]+1):\n",
    "            for j in range(begin[1],end[1]+1):\n",
    "                lights[i][j] += 2\n",
    "        \n",
    "print('\\nPart 2:')\n",
    "print(int(numpy.sum(lights)))"
   ]
  },
  {
   "cell_type": "markdown",
   "metadata": {},
   "source": [
    "# Day 5"
   ]
  },
  {
   "cell_type": "code",
   "execution_count": 35,
   "metadata": {},
   "outputs": [
    {
     "name": "stdout",
     "output_type": "stream",
     "text": [
      "Nice strings in part 1: 258\n",
      "Nice strings in part 2: 53\n"
     ]
    }
   ],
   "source": [
    "## Day 5 ##\n",
    "\n",
    "d5i = open(\"D5i.txt\",\"r\")\n",
    "lines = d5i.read().splitlines()\n",
    "d5i.close()\n",
    "\n",
    "\n",
    "# Part 1 \n",
    "forbidden = ['ab','cd','pq','xy']\n",
    "doubles = ['aa','bb','cc','dd','ee','ff','gg','hh','ii','jj','kk','ll','mm','nn','oo','pp','qq','rr','ss','tt','uu','vv','ww','xx','yy','zz']\n",
    "vowels = 'aeiou'\n",
    "\n",
    "i = 0\n",
    "for line in lines:\n",
    "    if not(any(x in line for x in forbidden)) and any(x in line for x in doubles):\n",
    "        vcount = 0\n",
    "        for vowel in vowels:\n",
    "            vcount += line.count(vowel)\n",
    "        if vcount > 2:\n",
    "            i += 1\n",
    "\n",
    "print('Nice strings in part 1: '+str(i))\n",
    "\n",
    "# Part 2\n",
    "\n",
    "i = 0\n",
    "for line in lines:\n",
    "    cond1 = False\n",
    "    cond2 = False\n",
    "    for j in range(len(line)-1):\n",
    "        if j<len(line)-2 and line[j] == line[j+2]:\n",
    "            cond1 = True\n",
    "        linel = line[:j]\n",
    "        liner = line[j+2:]\n",
    "        dub = line[j]+line[j+1]\n",
    "        if (dub in linel) or (dub in liner):\n",
    "            cond2 = True\n",
    "    if cond1 and cond2:\n",
    "        i += 1\n",
    "\n",
    "\n",
    "print('Nice strings in part 2: '+str(i))"
   ]
  },
  {
   "cell_type": "markdown",
   "metadata": {},
   "source": [
    "# Day 4"
   ]
  },
  {
   "cell_type": "code",
   "execution_count": 1,
   "metadata": {},
   "outputs": [
    {
     "name": "stdout",
     "output_type": "stream",
     "text": [
      "5 zeros\n",
      "Input: iwrupvqb346386\n",
      "Hash: 0000045c5e2b3911eb937d9d8c574f09\n",
      "Seed: 346386\n",
      "\n",
      "6 zeros\n",
      "Input: iwrupvqb9958218\n",
      "Hash: 00000094434e1914548b3a1af245fb27\n",
      "Seed: 9958218\n"
     ]
    }
   ],
   "source": [
    "## Day 4 ##\n",
    "import hashlib\n",
    "input = 'iwrupvqb'\n",
    "\n",
    "i = 1;\n",
    "hash = hashlib.md5(input.encode()).hexdigest()\n",
    "\n",
    "\n",
    "while hash[0:5] != '00000' :\n",
    "    i += 1\n",
    "    inputmod = input + str(i)\n",
    "    hash = hashlib.md5(inputmod.encode()).hexdigest()\n",
    "\n",
    "print('5 zeros')\n",
    "print('Input: '+inputmod)\n",
    "print('Hash: '+str(hash))\n",
    "print('Seed: '+str(i))\n",
    "\n",
    "while hash[0:6] != '000000' :\n",
    "    i += 1\n",
    "    inputmod = input + str(i)\n",
    "    hash = hashlib.md5(inputmod.encode()).hexdigest()\n",
    "\n",
    "print('\\n6 zeros')\n",
    "print('Input: '+inputmod)\n",
    "print('Hash: '+str(hash))\n",
    "print('Seed: '+str(i))"
   ]
  },
  {
   "cell_type": "markdown",
   "metadata": {},
   "source": [
    "# Day 3"
   ]
  },
  {
   "cell_type": "code",
   "execution_count": 6,
   "metadata": {},
   "outputs": [
    {
     "data": {
      "text/plain": [
       "2341"
      ]
     },
     "metadata": {},
     "output_type": "display_data"
    }
   ],
   "source": [
    "## DAY 3 ##\n",
    "\n",
    "d3i = open(\"D3i.txt\",\"r\")\n",
    "instr = d3i.read()\n",
    "d3i.close()\n",
    "\n",
    "i = 0\n",
    "j = 0\n",
    "k = 0\n",
    "l = 0\n",
    "count = 0\n",
    "\n",
    "\n",
    "houses = [str(i)+','+str(j)]\n",
    "houses.append(str(k)+','+str(l))\n",
    "\n",
    "for dir in instr:\n",
    "    if count%2 == 0:\n",
    "        if dir == '<':\n",
    "            i -= 1\n",
    "        elif dir == '>':\n",
    "            i += 1\n",
    "        elif dir == '^':\n",
    "            j += 1\n",
    "        elif dir == 'v':\n",
    "            j -=1\n",
    "        houses.append(str(i)+','+str(j))\n",
    "    else:\n",
    "        if dir == '<':\n",
    "            k -= 1\n",
    "        elif dir == '>':\n",
    "            k += 1\n",
    "        elif dir == '^':\n",
    "            l += 1\n",
    "        elif dir == 'v':\n",
    "            l -=1\n",
    "        houses.append(str(k)+','+str(l))\n",
    "    count += 1\n",
    "    \n",
    "uhouse = list(set(houses))\n",
    "display(len(uhouse))"
   ]
  },
  {
   "cell_type": "markdown",
   "metadata": {},
   "source": [
    "# Day 2"
   ]
  },
  {
   "cell_type": "code",
   "execution_count": 24,
   "metadata": {},
   "outputs": [
    {
     "data": {
      "text/plain": [
       "1588178"
      ]
     },
     "metadata": {},
     "output_type": "display_data"
    },
    {
     "data": {
      "text/plain": [
       "3783758"
      ]
     },
     "metadata": {},
     "output_type": "display_data"
    }
   ],
   "source": [
    "## DAY 2 ##\n",
    "\n",
    "d2i = open(\"D2i.txt\",\"r\")\n",
    "lines = d2i.read().splitlines()\n",
    "d2i.close()\n",
    "\n",
    "area = 0\n",
    "bow = 0\n",
    "\n",
    "for pack in lines:\n",
    "    dim = [int(i) for i in pack.split('x')]\n",
    "    area += 2*dim[0]*dim[1]+2*dim[1]*dim[2]+2*dim[0]*dim[2] + min(dim[0]*dim[1],dim[0]*dim[2],dim[1]*dim[2])\n",
    "    bow += min(2*(dim[0]+dim[1]),2*(dim[1]+dim[2]),2*(dim[0]+dim[2])) + dim[1]*dim[2]*dim[0]\n",
    "    \n",
    "display(area)\n",
    "display(bow)"
   ]
  },
  {
   "cell_type": "markdown",
   "metadata": {},
   "source": [
    "# Day 1"
   ]
  },
  {
   "cell_type": "code",
   "execution_count": 13,
   "metadata": {},
   "outputs": [
    {
     "data": {
      "text/plain": [
       "1795"
      ]
     },
     "metadata": {},
     "output_type": "display_data"
    },
    {
     "data": {
      "text/plain": [
       "74"
      ]
     },
     "metadata": {},
     "output_type": "display_data"
    }
   ],
   "source": [
    "## DAY 1 ##\n",
    "\n",
    "d1i = open(\"D1i.txt\",\"r\")\n",
    "instr = d1i.read ()\n",
    "d1i.close()\n",
    "\n",
    "floor = 0;\n",
    "ind = 1;\n",
    "notshown = True\n",
    "\n",
    "for i in instr:\n",
    "    if i == '(':\n",
    "        floor += 1\n",
    "    elif i == ')':\n",
    "        floor -= 1\n",
    "    if floor < 0 and notshown:\n",
    "        display(ind)\n",
    "        notshown = False\n",
    "    ind +=1\n",
    "    \n",
    "display(floor)"
   ]
  }
 ],
 "metadata": {
  "kernelspec": {
   "display_name": "Python 3",
   "language": "python",
   "name": "python3"
  },
  "language_info": {
   "codemirror_mode": {
    "name": "ipython",
    "version": 3
   },
   "file_extension": ".py",
   "mimetype": "text/x-python",
   "name": "python",
   "nbconvert_exporter": "python",
   "pygments_lexer": "ipython3",
   "version": "3.8.3"
  }
 },
 "nbformat": 4,
 "nbformat_minor": 4
}
