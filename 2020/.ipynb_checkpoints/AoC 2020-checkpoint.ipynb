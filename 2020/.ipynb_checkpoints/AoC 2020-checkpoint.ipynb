{
 "cells": [
  {
   "cell_type": "markdown",
   "metadata": {},
   "source": [
    "# Day 4 "
   ]
  },
  {
   "cell_type": "code",
   "execution_count": null,
   "metadata": {},
   "outputs": [],
   "source": []
  },
  {
   "cell_type": "code",
   "execution_count": null,
   "metadata": {},
   "outputs": [],
   "source": []
  },
  {
   "cell_type": "markdown",
   "metadata": {},
   "source": [
    "# Day 3"
   ]
  },
  {
   "cell_type": "code",
   "execution_count": 1,
   "metadata": {},
   "outputs": [
    {
     "name": "stdout",
     "output_type": "stream",
     "text": [
      "[ 79 156  85  82  41]\n"
     ]
    }
   ],
   "source": [
    "import numpy\n",
    "\n",
    "day3input = open(\"d3i.txt\",\"r\")\n",
    "lines = day3input.read().splitlines()\n",
    "day3input.close\n",
    "\n",
    "width = len(lines[0])\n",
    "treecount = numpy.zeros((5),dtype=int)\n",
    "\n",
    "for i in range(len(lines)):\n",
    "    if lines[i][((i)%width)] == '#':\n",
    "        treecount[0] += 1\n",
    "            \n",
    "\n",
    "for i in range(len(lines)):\n",
    "    if lines[i][((3*i)%width)] == '#':\n",
    "        treecount[1] += 1\n",
    "            \n",
    "\n",
    "for i in range(len(lines)):\n",
    "    if lines[i][((5*i)%width)] == '#':\n",
    "        treecount[2] += 1\n",
    "\n",
    "\n",
    "for i in range(len(lines)):\n",
    "    if lines[i][((7*i)%width)] == '#':\n",
    "        treecount[3] += 1\n",
    "            \n",
    "\n",
    "for i in range(len(lines)):\n",
    "    if i%2 == 0:\n",
    "        if lines[i][((int(i/2))%width)] == '#':\n",
    "            treecount[4] += 1\n",
    "            \n",
    "print(treecount)"
   ]
  },
  {
   "cell_type": "markdown",
   "metadata": {},
   "source": [
    "# Day 2"
   ]
  },
  {
   "cell_type": "code",
   "execution_count": 4,
   "metadata": {},
   "outputs": [
    {
     "name": "stdout",
     "output_type": "stream",
     "text": [
      "625\n"
     ]
    }
   ],
   "source": [
    "## PART 1 ##\n",
    "\n",
    "day2input = open(\"Day2input.txt\",\"r\")\n",
    "lines = day2input.read().splitlines()\n",
    "day2input.close\n",
    "\n",
    "nvalid = 0\n",
    "\n",
    "for line in lines:\n",
    "    limits = [int(i) for i in line.split()[0].split('-')]\n",
    "    letter = line.split()[1][:-1]\n",
    "    passw = line.split()[2]\n",
    "    count = passw.count(letter)\n",
    "    valid = limits[0] <= count <= limits[1]\n",
    "    if valid:\n",
    "        nvalid += 1\n",
    "        \n",
    "print(nvalid)"
   ]
  },
  {
   "cell_type": "code",
   "execution_count": 5,
   "metadata": {},
   "outputs": [
    {
     "name": "stdout",
     "output_type": "stream",
     "text": [
      "391\n"
     ]
    }
   ],
   "source": [
    "## PART 2 ##\n",
    "\n",
    "day2input = open(\"Day2input.txt\",\"r\")\n",
    "lines = day2input.read().splitlines()\n",
    "day2input.close\n",
    "\n",
    "nvalid = 0\n",
    "\n",
    "for line in lines:\n",
    "    limits = [int(i) for i in line.split()[0].split('-')]\n",
    "    letter = line.split()[1][:-1]\n",
    "    passw = line.split()[2]\n",
    "    a = passw[limits[0]-1] == letter\n",
    "    b = passw[limits[1]-1] == letter\n",
    "    valid = a ^ b\n",
    "    if valid:\n",
    "        nvalid += 1\n",
    "        \n",
    "print(nvalid)"
   ]
  }
 ],
 "metadata": {
  "kernelspec": {
   "display_name": "Python 3",
   "language": "python",
   "name": "python3"
  },
  "language_info": {
   "codemirror_mode": {
    "name": "ipython",
    "version": 3
   },
   "file_extension": ".py",
   "mimetype": "text/x-python",
   "name": "python",
   "nbconvert_exporter": "python",
   "pygments_lexer": "ipython3",
   "version": "3.8.3"
  }
 },
 "nbformat": 4,
 "nbformat_minor": 4
}
