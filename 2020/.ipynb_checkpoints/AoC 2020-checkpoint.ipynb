{
 "cells": [
  {
   "cell_type": "markdown",
   "metadata": {},
   "source": [
    "# Day 4 "
   ]
  },
  {
   "cell_type": "code",
   "execution_count": 14,
   "metadata": {},
   "outputs": [
    {
     "data": {
      "text/plain": [
       "256"
      ]
     },
     "metadata": {},
     "output_type": "display_data"
    }
   ],
   "source": [
    "## Part 1 ##\n",
    "\n",
    "day4input = open(\"d4i.txt\",\"r\")\n",
    "rawentries = day4input.read().split('\\n\\n')\n",
    "day4input.close\n",
    "\n",
    "import re\n",
    "entries = []\n",
    "\n",
    "for i in rawentries:\n",
    "    i = re.split(' |\\n',i)\n",
    "    vals = []\n",
    "    for j in i:\n",
    "        vals.append(j.split(':')[0])\n",
    "    entries.append(vals)\n",
    "\n",
    "mand = ['byr','iyr','eyr','hgt','hcl','ecl','pid']    \n",
    "\n",
    "valid = 0\n",
    "\n",
    "\n",
    "for i in entries:\n",
    "    if all(x in i for x in mand):\n",
    "        valid += 1\n",
    "\n",
    "display(valid)"
   ]
  },
  {
   "cell_type": "code",
   "execution_count": 94,
   "metadata": {},
   "outputs": [
    {
     "name": "stdout",
     "output_type": "stream",
     "text": [
      "True\n"
     ]
    },
    {
     "data": {
      "text/plain": [
       "[3, 5, 6, 7]"
      ]
     },
     "metadata": {},
     "output_type": "display_data"
    }
   ],
   "source": [
    "## Part 2 ##\n",
    "\n",
    "day4input = open(\"d4i.txt\",\"r\")\n",
    "# Split entries\n",
    "rawentries = day4input.read().split('\\n\\n')\n",
    "day4input.close\n",
    "\n",
    "import re\n",
    "entries = []\n",
    "\n",
    "# Make each entry a dictionary\n",
    "for i in rawentries:\n",
    "    i = re.split(' |\\n',i)\n",
    "    vals = {}\n",
    "    for j in i:\n",
    "        if len(j) > 1:\n",
    "            key = j.split(':')[0]\n",
    "            val = j.split(':')[1]\n",
    "            vals[key] = val\n",
    "    entries.append(vals)\n",
    "\n",
    "valid = 0\n",
    "\n",
    "ecls =['amb','blu','brn','gry','grn','hzl','oth']\n",
    "\n",
    "entries = [{'pid':'087499704', 'hgt':'74in', 'ecl':'grn', 'iyr':'2012', 'eyr':'2030', 'byr':'1980', 'hcl':'#623a2f'}]\n",
    "\n",
    "\n",
    "for i in entries:\n",
    "    passed = []\n",
    "    if 'byr' in i.keys() and len(i['byr'])==4 and 1920 <= int(i['byr']) <= 2002:\n",
    "        passed.append(1)\n",
    "    if 'iyr' in i.keys() and len(i['iyr'])==4 and 2010 <= int(i['iyr']) <= 2020:\n",
    "        passed.append(2)\n",
    "    if 'eyr' in i.keys() and len(i['eyr'])==4 and 2020 <= int(i['eyr']) <= 2030:\n",
    "        passed.append(3)\n",
    "   \n",
    "    if 'hgt' in i.keys():\n",
    "        if 'cm' in i['hgt']:\n",
    "            if 150 <= int(i['hgt'][:-2]) <= 193:\n",
    "                passed.append(4)\n",
    "        elif 'in' in i['hgt']:\n",
    "            if 59 <= int(i['hgt'][:-2]) <= 76:\n",
    "                passed.append(4)\n",
    "   \n",
    "    if 'hcl' in i.keys() and re.fullmatch(r'#[0-9a-f]{6}',i['hcl']) != None:\n",
    "        passed.append(5)\n",
    "    if 'ecl' in i.keys() and i['ecl'] in ecls:\n",
    "        passed.append(6)\n",
    "    if 'pid' in i.keys() and len(i['pid'])==9:\n",
    "        passed.append(7)\n",
    "    display(passed)\n",
    "    "
   ]
  },
  {
   "cell_type": "markdown",
   "metadata": {},
   "source": [
    "# Day 3"
   ]
  },
  {
   "cell_type": "code",
   "execution_count": 1,
   "metadata": {},
   "outputs": [
    {
     "name": "stdout",
     "output_type": "stream",
     "text": [
      "[ 79 156  85  82  41]\n"
     ]
    }
   ],
   "source": [
    "import numpy\n",
    "\n",
    "day3input = open(\"d3i.txt\",\"r\")\n",
    "lines = day3input.read().splitlines()\n",
    "day3input.close\n",
    "\n",
    "width = len(lines[0])\n",
    "treecount = numpy.zeros((5),dtype=int)\n",
    "\n",
    "for i in range(len(lines)):\n",
    "    if lines[i][((i)%width)] == '#':\n",
    "        treecount[0] += 1\n",
    "            \n",
    "\n",
    "for i in range(len(lines)):\n",
    "    if lines[i][((3*i)%width)] == '#':\n",
    "        treecount[1] += 1\n",
    "            \n",
    "\n",
    "for i in range(len(lines)):\n",
    "    if lines[i][((5*i)%width)] == '#':\n",
    "        treecount[2] += 1\n",
    "\n",
    "\n",
    "for i in range(len(lines)):\n",
    "    if lines[i][((7*i)%width)] == '#':\n",
    "        treecount[3] += 1\n",
    "            \n",
    "\n",
    "for i in range(len(lines)):\n",
    "    if i%2 == 0:\n",
    "        if lines[i][((int(i/2))%width)] == '#':\n",
    "            treecount[4] += 1\n",
    "            \n",
    "print(treecount)"
   ]
  },
  {
   "cell_type": "markdown",
   "metadata": {},
   "source": [
    "# Day 2"
   ]
  },
  {
   "cell_type": "code",
   "execution_count": 2,
   "metadata": {},
   "outputs": [
    {
     "name": "stdout",
     "output_type": "stream",
     "text": [
      "625\n"
     ]
    }
   ],
   "source": [
    "## PART 1 ##\n",
    "\n",
    "day2input = open(\"d2i.txt\",\"r\")\n",
    "lines = day2input.read().splitlines()\n",
    "day2input.close\n",
    "\n",
    "nvalid = 0\n",
    "\n",
    "for line in lines:\n",
    "    limits = [int(i) for i in line.split()[0].split('-')]\n",
    "    letter = line.split()[1][:-1]\n",
    "    passw = line.split()[2]\n",
    "    count = passw.count(letter)\n",
    "    valid = limits[0] <= count <= limits[1]\n",
    "    if valid:\n",
    "        nvalid += 1\n",
    "        \n",
    "print(nvalid)"
   ]
  },
  {
   "cell_type": "code",
   "execution_count": 1,
   "metadata": {},
   "outputs": [
    {
     "name": "stdout",
     "output_type": "stream",
     "text": [
      "391\n"
     ]
    }
   ],
   "source": [
    "## PART 2 ##\n",
    "\n",
    "day2input = open(\"d2i.txt\",\"r\")\n",
    "lines = day2input.read().splitlines()\n",
    "day2input.close\n",
    "\n",
    "nvalid = 0\n",
    "\n",
    "for line in lines:\n",
    "    limits = [int(i) for i in line.split()[0].split('-')]\n",
    "    letter = line.split()[1][:-1]\n",
    "    passw = line.split()[2]\n",
    "    a = passw[limits[0]-1] == letter\n",
    "    b = passw[limits[1]-1] == letter\n",
    "    valid = a ^ b\n",
    "    if valid:\n",
    "        nvalid += 1\n",
    "        \n",
    "print(nvalid)"
   ]
  }
 ],
 "metadata": {
  "kernelspec": {
   "display_name": "Python 3",
   "language": "python",
   "name": "python3"
  },
  "language_info": {
   "codemirror_mode": {
    "name": "ipython",
    "version": 3
   },
   "file_extension": ".py",
   "mimetype": "text/x-python",
   "name": "python",
   "nbconvert_exporter": "python",
   "pygments_lexer": "ipython3",
   "version": "3.8.3"
  }
 },
 "nbformat": 4,
 "nbformat_minor": 4
}
