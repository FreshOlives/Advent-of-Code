{
 "cells": [
  {
   "cell_type": "markdown",
   "metadata": {},
   "source": [
    "# Day 11"
   ]
  },
  {
   "cell_type": "code",
   "execution_count": 36,
   "metadata": {},
   "outputs": [
    {
     "name": "stdout",
     "output_type": "stream",
     "text": [
      "Part 1: \n",
      "2386\n"
     ]
    }
   ],
   "source": [
    "day11input = open(\"d11i.txt\",\"r\")\n",
    "lines = day11input.read().splitlines()\n",
    "day11input.close()\n",
    "\n",
    "def countneighbors(x,y,seats):\n",
    "    neighbors = 0\n",
    "    hor = [-1,0,1]\n",
    "    vert = [-1,0,1]\n",
    "    \n",
    "    #check for edges\n",
    "    if x == 0 or x == len(seats)-1:\n",
    "        hor = [0,1] if x == 0 else [-1,0]\n",
    "    if y == 0 or y == len(seats[0])-1:\n",
    "        vert = [0,1] if y == 0 else [-1,0]\n",
    "    #print('Checking around '+str(x)+';'+str(y))\n",
    "    for i in hor:\n",
    "        for j in vert:\n",
    "            #print(str(x+i)+';'+str(y+j))\n",
    "            if seats[x+i][y+j] == '#':\n",
    "                neighbors += 1\n",
    "    \n",
    "    if seats[x][y] == '#':\n",
    "        neighbors -= 1\n",
    "    return neighbors\n",
    "\n",
    "sits = [1]\n",
    "leaves = [1]\n",
    "\n",
    "while not(sits==[] and leaves==[]):\n",
    "    sits=[];\n",
    "    leaves=[];\n",
    "    for x in range(len(lines)):\n",
    "        for y in range(len(lines[x])):\n",
    "            adj = countneighbors(x,y,lines)\n",
    "            if lines[x][y] == '#' and adj >= 4:\n",
    "                leaves.append([x, y])\n",
    "            elif lines[x][y] == 'L' and adj == 0:\n",
    "                sits.append([x,y])\n",
    "\n",
    "    for sit in sits:\n",
    "        lines[sit[0]] = lines[sit[0]][:sit[1]]+'#'+lines[sit[0]][sit[1]+1:]\n",
    "    for leave in leaves:\n",
    "        lines[leave[0]] = lines[leave[0]][:leave[1]]+'L'+lines[leave[0]][leave[1]+1:]\n",
    "    \n",
    "\n",
    "countseats = 0\n",
    "for line in lines:\n",
    "    for seat in line:\n",
    "        if seat == '#':\n",
    "            countseats += 1\n",
    "            \n",
    "print('Part 1: ')\n",
    "print(countseats)"
   ]
  },
  {
   "cell_type": "code",
   "execution_count": 40,
   "metadata": {},
   "outputs": [
    {
     "name": "stdout",
     "output_type": "stream",
     "text": [
      "Part 2: \n",
      "2091\n"
     ]
    }
   ],
   "source": [
    "day11input = open(\"d11i.txt\",\"r\")\n",
    "lines = day11input.read().splitlines()\n",
    "day11input.close()\n",
    "\n",
    "def countneighbors(x,y,seats):\n",
    "    neighbors = 0\n",
    "    \n",
    "    #check W\n",
    "    i = 1\n",
    "    while x+i < len(seats) and seats[x+i][y] == '.':\n",
    "        i += 1\n",
    "    if x+i < len(seats) and seats[x+i][y] == '#':\n",
    "        neighbors += 1\n",
    "        \n",
    "    #check E\n",
    "    i = -1\n",
    "    while x+i >= 0 and seats[x+i][y] == '.':\n",
    "        i -= 1\n",
    "    if x+i >= 0 and seats[x+i][y] == '#':\n",
    "        neighbors += 1\n",
    "    \n",
    "    #check N\n",
    "    j = 1\n",
    "    while y+j < len(seats[0]) and seats[x][y+j] == '.':\n",
    "        j += 1\n",
    "    if y+j < len(seats[0]) and seats[x][y+j] == '#':\n",
    "        neighbors += 1\n",
    "        \n",
    "    #check S\n",
    "    j = -1\n",
    "    while y+j >= 0 and seats[x][y+j] == '.':\n",
    "        j -= 1\n",
    "    if y+j >= 0 and seats[x][y+j] == '#':\n",
    "        neighbors += 1\n",
    "        \n",
    "    #check NE\n",
    "    j = 1\n",
    "    i = 1\n",
    "    while y+j < len(seats[0]) and x+i < len(seats) and seats[x+i][y+j] == '.':\n",
    "        j += 1\n",
    "        i += 1\n",
    "    if y+j < len(seats[0]) and x+i < len(seats) and seats[x+i][y+j] == '#':\n",
    "        neighbors += 1\n",
    "\n",
    "    #check NW\n",
    "    j = 1\n",
    "    i = -1\n",
    "    while y+j < len(seats[0]) and x+i >= 0 and seats[x+i][y+j] == '.':\n",
    "        j += 1\n",
    "        i -= 1\n",
    "    if y+j < len(seats[0]) and x+i >= 0 and seats[x+i][y+j] == '#':\n",
    "        neighbors += 1\n",
    "        \n",
    "    #check SW\n",
    "    j = -1\n",
    "    i = -1\n",
    "    while y+j >= 0 and x+i >= 0 and seats[x+i][y+j] == '.':\n",
    "        j -= 1\n",
    "        i -= 1\n",
    "    if y+j >= 0 and x+i >= 0 and seats[x+i][y+j] == '#':\n",
    "        neighbors += 1\n",
    "        \n",
    "    #check SE\n",
    "    j = -1\n",
    "    i = 1\n",
    "    while y+j >= 0 and x+i < len(seats) and seats[x+i][y+j] == '.':\n",
    "        j -= 1\n",
    "        i += 1\n",
    "    if y+j >= 0 and x+i < len(seats) and seats[x+i][y+j] == '#':\n",
    "        neighbors += 1\n",
    "        \n",
    "    return neighbors\n",
    "\n",
    "sits = [1]\n",
    "leaves = [1]\n",
    "\n",
    "while not(sits==[] and leaves==[]):\n",
    "    sits=[];\n",
    "    leaves=[];\n",
    "    for x in range(len(lines)):\n",
    "        for y in range(len(lines[x])):\n",
    "            adj = countneighbors(x,y,lines)\n",
    "            if lines[x][y] == '#' and adj >= 5:\n",
    "                leaves.append([x, y])\n",
    "            elif lines[x][y] == 'L' and adj == 0:\n",
    "                sits.append([x,y])\n",
    "\n",
    "    for sit in sits:\n",
    "        lines[sit[0]] = lines[sit[0]][:sit[1]]+'#'+lines[sit[0]][sit[1]+1:]\n",
    "    for leave in leaves:\n",
    "        lines[leave[0]] = lines[leave[0]][:leave[1]]+'L'+lines[leave[0]][leave[1]+1:]\n",
    "\n",
    "countseats = 0\n",
    "for line in lines:\n",
    "    for seat in line:\n",
    "        if seat == '#':\n",
    "            countseats += 1\n",
    "\n",
    "print('Part 2: ')\n",
    "print(countseats)"
   ]
  },
  {
   "cell_type": "markdown",
   "metadata": {},
   "source": [
    "# Day 10"
   ]
  },
  {
   "cell_type": "code",
   "execution_count": 75,
   "metadata": {},
   "outputs": [
    {
     "name": "stdout",
     "output_type": "stream",
     "text": [
      "Part 1\n",
      "2059\n",
      "Part 2\n",
      "86812553324672\n"
     ]
    }
   ],
   "source": [
    "day10input = open(\"d10i.txt\",\"r\")\n",
    "lines = [int(x) for x in day10input.read().splitlines()]\n",
    "day10input.close()\n",
    "\n",
    "lines.sort(reverse = True)\n",
    "\n",
    "import numpy as np\n",
    "\n",
    "i = 0\n",
    "threes = 1\n",
    "ones = 1\n",
    "\n",
    "while i in range(len(lines)-1):\n",
    "    if lines[i]-lines[i+1] == 3:\n",
    "        threes += 1\n",
    "    elif lines[i]-lines[i+1] == 1:\n",
    "        ones += 1\n",
    "    i += 1\n",
    "\n",
    "print('Part 1')\n",
    "print(threes*ones)\n",
    "\n",
    "runs = []\n",
    "run = []\n",
    "lines.append(0)\n",
    "lines.append(lines[0]+3)\n",
    "lines.sort(reverse = True)\n",
    "\n",
    "for i in range(len(lines)-1):\n",
    "    if lines[i]-lines[i+1] == 1:\n",
    "        run.append(lines[i])\n",
    "    else:\n",
    "        run.append(lines[i])\n",
    "        runs.append(run)\n",
    "        run = []\n",
    "\n",
    "run.append(0)\n",
    "runs.append(run)\n",
    "\n",
    "maxlen = max(len(i) for i in runs)\n",
    "\n",
    "trib = [0,1,1]\n",
    "for i in range(maxlen-1):\n",
    "    trib.append(trib[i]+trib[i+1]+trib[i+2])\n",
    "\n",
    "paths = []\n",
    "\n",
    "for i in range(len(runs)):\n",
    "    if len(runs[i]) != 1:\n",
    "        paths.append(trib[len(runs[i])])\n",
    "        \n",
    "product = 1\n",
    "for i in paths:\n",
    "    product *= i\n",
    "                          \n",
    "print('Part 2')\n",
    "print(product)\n"
   ]
  },
  {
   "cell_type": "code",
   "execution_count": null,
   "metadata": {},
   "outputs": [],
   "source": []
  },
  {
   "cell_type": "markdown",
   "metadata": {},
   "source": [
    "# Day 9"
   ]
  },
  {
   "cell_type": "code",
   "execution_count": 37,
   "metadata": {},
   "outputs": [
    {
     "name": "stdout",
     "output_type": "stream",
     "text": [
      "Part 1: 1398413738\n",
      "Part 2: 169521051\n"
     ]
    }
   ],
   "source": [
    "day9input = open(\"d9i.txt\",\"r\")\n",
    "lines = [int(x) for x in day9input.read().splitlines()]\n",
    "day9input.close()\n",
    "\n",
    "\n",
    "## Part 1 ##\n",
    "\n",
    "prenum = 25\n",
    "\n",
    "index = prenum\n",
    "found = True\n",
    "\n",
    "while index in range(len(lines)) and found:\n",
    "    found = False\n",
    "    preamble = lines[index-prenum:index]\n",
    "    for number in preamble:\n",
    "        if lines[index]-number in preamble:\n",
    "            found = True\n",
    "            continue\n",
    "    index += 1\n",
    "\n",
    "invalid = lines[index-1]\n",
    "print('Part 1: '+str(invalid))\n",
    "\n",
    "## Part 2 ##\n",
    "\n",
    "index = 0\n",
    "found = False\n",
    "\n",
    "while index in range(len(lines)) and not(found):\n",
    "    length = 1 \n",
    "    under = True\n",
    "    while under:\n",
    "        if sum(lines[index:index+length]) == invalid:\n",
    "            found = True\n",
    "            smaller = min(lines[index:index+length])\n",
    "            bigger = max(lines[index:index+length])\n",
    "            break\n",
    "        elif sum(lines[index:index+length]) > invalid:\n",
    "            under = False\n",
    "        else:\n",
    "            length += 1\n",
    "    index += 1\n",
    "\n",
    "print('Part 2: '+str(smaller+bigger))"
   ]
  },
  {
   "cell_type": "markdown",
   "metadata": {},
   "source": [
    "# Day 8"
   ]
  },
  {
   "cell_type": "code",
   "execution_count": 34,
   "metadata": {},
   "outputs": [
    {
     "name": "stdout",
     "output_type": "stream",
     "text": [
      "LOOP ALERT\n",
      "1337\n"
     ]
    }
   ],
   "source": [
    "day8input = open(\"d8i.txt\",\"r\")\n",
    "lines = day8input.read().splitlines()\n",
    "day8input.close()\n",
    "\n",
    "lines = [x.split(' ') for x in lines]\n",
    "\n",
    "acc = 0\n",
    "i = 0\n",
    "done = []\n",
    "\n",
    "while i in range(len(lines)):\n",
    "    instr = lines[i]\n",
    "    if i in done:\n",
    "        print('LOOP ALERT')\n",
    "        break\n",
    "    elif instr[0] == 'nop':\n",
    "        done.append(i)\n",
    "        i +=1\n",
    "    elif instr[0] == 'acc':\n",
    "        acc += int(instr[1])\n",
    "        done.append(i)\n",
    "        i += 1\n",
    "    elif instr[0] == 'jmp':\n",
    "        done.append(i)\n",
    "        i += int(instr[1])\n",
    "\n",
    "print(acc)"
   ]
  },
  {
   "cell_type": "code",
   "execution_count": 45,
   "metadata": {},
   "outputs": [
    {
     "name": "stdout",
     "output_type": "stream",
     "text": [
      "1358\n"
     ]
    }
   ],
   "source": [
    "# Today I learned that list copies are done by reference, and not by value\n",
    "\n",
    "from copy import deepcopy\n",
    "\n",
    "day8input = open(\"d8i.txt\",\"r\")\n",
    "lines = day8input.read().splitlines()\n",
    "day8input.close()\n",
    "\n",
    "lines = [x.split(' ') for x in lines]\n",
    "\n",
    "switch=[]\n",
    "i = 0\n",
    "\n",
    "while i in range(len(lines)):\n",
    "    instr = lines[i]\n",
    "    if instr[0] == 'jmp' or instr[0] == 'nop':\n",
    "        switch.append(i)\n",
    "    i += 1\n",
    "\n",
    "\n",
    "for j in switch:\n",
    "    acc = 0\n",
    "    i = 0\n",
    "    done = []\n",
    "    correct = deepcopy(lines)\n",
    "\n",
    "    if lines[j][0] != 'jmp':\n",
    "        correct[j][0] = 'jmp'\n",
    "    elif lines[j][0] == 'jmp':\n",
    "        correct[j][0] = 'nop'\n",
    "\n",
    "    while i in range(len(lines)):\n",
    "        instr = correct[i]\n",
    "        if i == len(lines)-1:\n",
    "            print(acc)\n",
    "            break\n",
    "        if i in done:\n",
    "            break\n",
    "        elif instr[0] == 'nop':\n",
    "            done.append(i)\n",
    "            i +=1\n",
    "        elif instr[0] == 'acc':\n",
    "            acc += int(instr[1])\n",
    "            done.append(i)\n",
    "            i += 1\n",
    "        elif instr[0] == 'jmp':\n",
    "            done.append(i)\n",
    "            i += int(instr[1])"
   ]
  },
  {
   "cell_type": "markdown",
   "metadata": {},
   "source": [
    "# Day 7"
   ]
  },
  {
   "cell_type": "code",
   "execution_count": 2,
   "metadata": {},
   "outputs": [
    {
     "name": "stdout",
     "output_type": "stream",
     "text": [
      "Part 1: 151\n"
     ]
    }
   ],
   "source": [
    "day7input = open(\"d7i.txt\",\"r\")\n",
    "lines = day7input.read().splitlines()\n",
    "day7input.close()\n",
    "\n",
    "import re\n",
    "\n",
    "rules = []\n",
    "\n",
    "for line in lines:\n",
    "    rule = re.split(' bags contain [1-9] | bags contain | bag, [1-9] | bags, [1-9] ',re.sub(r' bag\\.| bags\\.','',line))\n",
    "    rules.append(rule)\n",
    "\n",
    "rules = [s for s in rules if s[1] != 'no other']\n",
    "\n",
    "bags = set()\n",
    "\n",
    "for rule in rules:\n",
    "    if 'shiny gold' in rule[1:]:\n",
    "        bags.add(rule[0])\n",
    "baglen = 1\n",
    "        \n",
    "while len(rules) > 0:\n",
    "    if baglen == len(bags):\n",
    "        break\n",
    "    else:\n",
    "        baglen = len(bags)\n",
    "        \n",
    "    rules = [s for s in rules if s[0] not in bags]        \n",
    "    for rule in rules:\n",
    "        addbags = []\n",
    "        for bag in bags:\n",
    "            if bag in rule[1:]:\n",
    "                addbags.append(rule[0])\n",
    "        for bag in addbags:\n",
    "            bags.add(bag)\n",
    "\n",
    "print('Part 1: '+str(len(bags)))"
   ]
  },
  {
   "cell_type": "code",
   "execution_count": 2,
   "metadata": {},
   "outputs": [
    {
     "name": "stdout",
     "output_type": "stream",
     "text": [
      "Part 2:\n",
      "41559\n"
     ]
    }
   ],
   "source": [
    "day7input = open(\"d7i.txt\",\"r\")\n",
    "lines = day7input.read().splitlines()\n",
    "day7input.close()\n",
    "\n",
    "import re\n",
    "from treelib import Node, Tree\n",
    "\n",
    "rules = []\n",
    "\n",
    "for line in lines:\n",
    "    rule = re.split(' bags contain | bags contain | bag, | bags, ',re.sub(r' bag\\.| bags\\.','',line))\n",
    "    rules.append(rule)\n",
    "\n",
    "counted = {}\n",
    "    \n",
    "for rule in rules:\n",
    "    if rule[1] == 'no other':\n",
    "        counted[rule[0]] = 1\n",
    "\n",
    "while True:\n",
    "    for rule in rules:\n",
    "        if all(child[2:] in counted.keys() for child in rule[1:]):\n",
    "            counter = 0\n",
    "            for child in rule[1:]:\n",
    "                counter += int(child[:1])*int(counted[child[2:]])\n",
    "            counted[rule[0]] = counter+1\n",
    "\n",
    "    if 'shiny gold' in counted.keys():\n",
    "        print('Part 2:')\n",
    "        print(counted['shiny gold']-1)\n",
    "        break"
   ]
  },
  {
   "cell_type": "markdown",
   "metadata": {},
   "source": [
    "# Day 6"
   ]
  },
  {
   "cell_type": "code",
   "execution_count": 8,
   "metadata": {},
   "outputs": [
    {
     "name": "stdout",
     "output_type": "stream",
     "text": [
      "Part 1 : 6735\n",
      "Part 2 : 3221\n"
     ]
    }
   ],
   "source": [
    "day6input = open(\"d6i.txt\",\"r\")\n",
    "groups = day6input.read().split('\\n\\n')\n",
    "day6input.close()\n",
    "\n",
    "\n",
    "## Part 1 ##\n",
    "yes = 0\n",
    "\n",
    "for i in groups:\n",
    "    yes += len(set(i.replace(\"\\n\",\"\")))\n",
    "    \n",
    "print('Part 1 : '+str(yes))\n",
    "\n",
    "yes = 0\n",
    "\n",
    "for i in groups:\n",
    "    answers = i.splitlines()\n",
    "    for j in answers[0]:\n",
    "        if all(j in x for x in answers):\n",
    "            yes += 1\n",
    "            \n",
    "print('Part 2 : '+str(yes))"
   ]
  },
  {
   "cell_type": "markdown",
   "metadata": {},
   "source": [
    "# Day 5"
   ]
  },
  {
   "cell_type": "code",
   "execution_count": 1,
   "metadata": {},
   "outputs": [
    {
     "name": "stdout",
     "output_type": "stream",
     "text": [
      "Part 1: 878\n",
      "Part 2: 504\n"
     ]
    }
   ],
   "source": [
    "day5input = open(\"d5i.txt\",\"r\")\n",
    "lines = day5input.read().splitlines()\n",
    "day5input.close()\n",
    "\n",
    "seatids = []\n",
    "\n",
    "for i in lines:\n",
    "    seatids.append(int(i.replace('F','0').replace('B','1').replace('L','0').replace('R','1'), 2))\n",
    "    \n",
    "print('Part 1: '+ str(max(seatids)))\n",
    "seatids.sort()\n",
    "\n",
    "for i in range(len(seatids)-1):\n",
    "    if seatids[i+1] == seatids[i]+2:\n",
    "        print('Part 2: '+str(seatids[i]+1))\n",
    "        break\n",
    "    "
   ]
  },
  {
   "cell_type": "markdown",
   "metadata": {},
   "source": [
    "# Day 4 "
   ]
  },
  {
   "cell_type": "code",
   "execution_count": 14,
   "metadata": {},
   "outputs": [
    {
     "data": {
      "text/plain": [
       "256"
      ]
     },
     "metadata": {},
     "output_type": "display_data"
    }
   ],
   "source": [
    "## Part 1 ##\n",
    "\n",
    "day4input = open(\"d4i.txt\",\"r\")\n",
    "rawentries = day4input.read().split('\\n\\n')\n",
    "day4input.close()\n",
    "\n",
    "import re\n",
    "entries = []\n",
    "\n",
    "for i in rawentries:\n",
    "    i = re.split(' |\\n',i)\n",
    "    vals = []\n",
    "    for j in i:\n",
    "        vals.append(j.split(':')[0])\n",
    "    entries.append(vals)\n",
    "\n",
    "mand = ['byr','iyr','eyr','hgt','hcl','ecl','pid']    \n",
    "\n",
    "valid = 0\n",
    "\n",
    "\n",
    "for i in entries:\n",
    "    if all(x in i for x in mand):\n",
    "        valid += 1\n",
    "\n",
    "display(valid)"
   ]
  },
  {
   "cell_type": "code",
   "execution_count": 97,
   "metadata": {},
   "outputs": [
    {
     "data": {
      "text/plain": [
       "198"
      ]
     },
     "metadata": {},
     "output_type": "display_data"
    }
   ],
   "source": [
    "## Part 2 ##\n",
    "\n",
    "day4input = open(\"d4i.txt\",\"r\")\n",
    "# Split entries\n",
    "rawentries = day4input.read().split('\\n\\n')\n",
    "day4input.close()\n",
    "\n",
    "import re\n",
    "entries = []\n",
    "\n",
    "# Make each entry a dictionary\n",
    "for i in rawentries:\n",
    "    i = re.split(' |\\n',i)\n",
    "    vals = {}\n",
    "    for j in i:\n",
    "        if len(j) > 1:\n",
    "            key = j.split(':')[0]\n",
    "            val = j.split(':')[1]\n",
    "            vals[key] = val\n",
    "    entries.append(vals)\n",
    "\n",
    "valid = 0\n",
    "\n",
    "ecls =['amb','blu','brn','gry','grn','hzl','oth']\n",
    "\n",
    "for i in entries:\n",
    "    passed = []\n",
    "    if 'byr' in i.keys() and len(i['byr'])==4 and 1920 <= int(i['byr']) <= 2002:\n",
    "        passed.append(1)\n",
    "    if 'iyr' in i.keys() and len(i['iyr'])==4 and 2010 <= int(i['iyr']) <= 2020:\n",
    "        passed.append(2)\n",
    "    if 'eyr' in i.keys() and len(i['eyr'])==4 and 2020 <= int(i['eyr']) <= 2030:\n",
    "        passed.append(3)\n",
    "   \n",
    "    if 'hgt' in i.keys():\n",
    "        if 'cm' in i['hgt']:\n",
    "            if 150 <= int(i['hgt'][:-2]) <= 193:\n",
    "                passed.append(4)\n",
    "        elif 'in' in i['hgt']:\n",
    "            if 59 <= int(i['hgt'][:-2]) <= 76:\n",
    "                passed.append(4)\n",
    "   \n",
    "    if 'hcl' in i.keys() and re.fullmatch(r'#[0-9a-f]{6}',i['hcl']) != None:\n",
    "        passed.append(5)\n",
    "    if 'ecl' in i.keys() and i['ecl'] in ecls:\n",
    "        passed.append(6)\n",
    "    if 'pid' in i.keys() and len(i['pid'])==9:\n",
    "        passed.append(7)\n",
    "    if passed == [1,2,3,4,5,6,7]:\n",
    "        valid += 1\n",
    "\n",
    "display(valid)"
   ]
  },
  {
   "cell_type": "markdown",
   "metadata": {},
   "source": [
    "# Day 3"
   ]
  },
  {
   "cell_type": "code",
   "execution_count": 1,
   "metadata": {},
   "outputs": [
    {
     "name": "stdout",
     "output_type": "stream",
     "text": [
      "[ 79 156  85  82  41]\n"
     ]
    }
   ],
   "source": [
    "import numpy\n",
    "\n",
    "day3input = open(\"d3i.txt\",\"r\")\n",
    "lines = day3input.read().splitlines()\n",
    "day3input.close()\n",
    "\n",
    "width = len(lines[0])\n",
    "treecount = numpy.zeros((5),dtype=int)\n",
    "\n",
    "for i in range(len(lines)):\n",
    "    if lines[i][((i)%width)] == '#':\n",
    "        treecount[0] += 1\n",
    "            \n",
    "\n",
    "for i in range(len(lines)):\n",
    "    if lines[i][((3*i)%width)] == '#':\n",
    "        treecount[1] += 1\n",
    "            \n",
    "\n",
    "for i in range(len(lines)):\n",
    "    if lines[i][((5*i)%width)] == '#':\n",
    "        treecount[2] += 1\n",
    "\n",
    "\n",
    "for i in range(len(lines)):\n",
    "    if lines[i][((7*i)%width)] == '#':\n",
    "        treecount[3] += 1\n",
    "            \n",
    "\n",
    "for i in range(len(lines)):\n",
    "    if i%2 == 0:\n",
    "        if lines[i][((int(i/2))%width)] == '#':\n",
    "            treecount[4] += 1\n",
    "            \n",
    "print(treecount)"
   ]
  },
  {
   "cell_type": "markdown",
   "metadata": {},
   "source": [
    "# Day 2"
   ]
  },
  {
   "cell_type": "code",
   "execution_count": 2,
   "metadata": {},
   "outputs": [
    {
     "name": "stdout",
     "output_type": "stream",
     "text": [
      "625\n"
     ]
    }
   ],
   "source": [
    "## PART 1 ##\n",
    "\n",
    "day2input = open(\"d2i.txt\",\"r\")\n",
    "lines = day2input.read().splitlines()\n",
    "day2input.close()\n",
    "\n",
    "nvalid = 0\n",
    "\n",
    "for line in lines:\n",
    "    limits = [int(i) for i in line.split()[0].split('-')]\n",
    "    letter = line.split()[1][:-1]\n",
    "    passw = line.split()[2]\n",
    "    count = passw.count(letter)\n",
    "    valid = limits[0] <= count <= limits[1]\n",
    "    if valid:\n",
    "        nvalid += 1\n",
    "        \n",
    "print(nvalid)"
   ]
  },
  {
   "cell_type": "code",
   "execution_count": 1,
   "metadata": {},
   "outputs": [
    {
     "name": "stdout",
     "output_type": "stream",
     "text": [
      "391\n"
     ]
    }
   ],
   "source": [
    "## PART 2 ##\n",
    "\n",
    "day2input = open(\"d2i.txt\",\"r\")\n",
    "lines = day2input.read().splitlines()\n",
    "day2input.close()\n",
    "\n",
    "nvalid = 0\n",
    "\n",
    "for line in lines:\n",
    "    limits = [int(i) for i in line.split()[0].split('-')]\n",
    "    letter = line.split()[1][:-1]\n",
    "    passw = line.split()[2]\n",
    "    a = passw[limits[0]-1] == letter\n",
    "    b = passw[limits[1]-1] == letter\n",
    "    valid = a ^ b\n",
    "    if valid:\n",
    "        nvalid += 1\n",
    "        \n",
    "print(nvalid)"
   ]
  }
 ],
 "metadata": {
  "kernelspec": {
   "display_name": "Python 3",
   "language": "python",
   "name": "python3"
  },
  "language_info": {
   "codemirror_mode": {
    "name": "ipython",
    "version": 3
   },
   "file_extension": ".py",
   "mimetype": "text/x-python",
   "name": "python",
   "nbconvert_exporter": "python",
   "pygments_lexer": "ipython3",
   "version": "3.8.3"
  }
 },
 "nbformat": 4,
 "nbformat_minor": 4
}
