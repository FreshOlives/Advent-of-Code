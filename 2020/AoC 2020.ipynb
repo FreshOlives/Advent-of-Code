{
 "cells": [
  {
   "cell_type": "markdown",
   "metadata": {},
   "source": [
    "# Day 8"
   ]
  },
  {
   "cell_type": "code",
   "execution_count": 11,
   "metadata": {},
   "outputs": [
    {
     "name": "stdout",
     "output_type": "stream",
     "text": [
      "LOOP ALERT BABY\n",
      "1337\n"
     ]
    }
   ],
   "source": [
    "day8input = open(\"d8i.txt\",\"r\")\n",
    "lines = day8input.read().splitlines()\n",
    "day8input.close()\n",
    "\n",
    "lines = [x.split(' ') for x in lines]\n",
    "\n",
    "acc = 0\n",
    "i = 0\n",
    "done = []\n",
    "jmps = []\n",
    "\n",
    "while i in range(len(lines)):\n",
    "    instr = lines[i]\n",
    "    if i in done:\n",
    "        print('LOOP ALERT BABY')\n",
    "        break\n",
    "    elif instr[0] == 'nop':\n",
    "        done.append(i)\n",
    "        i +=1\n",
    "    elif instr[0] == 'acc':\n",
    "        acc += int(instr[1])\n",
    "        done.append(i)\n",
    "        i += 1\n",
    "    elif instr[0] == 'jmp':\n",
    "        done.append(i)\n",
    "        i += int(instr[1])\n",
    "\n",
    "print(acc)"
   ]
  },
  {
   "cell_type": "markdown",
   "metadata": {},
   "source": [
    "# Day 7"
   ]
  },
  {
   "cell_type": "code",
   "execution_count": 2,
   "metadata": {},
   "outputs": [
    {
     "name": "stdout",
     "output_type": "stream",
     "text": [
      "Part 1: 151\n"
     ]
    }
   ],
   "source": [
    "day7input = open(\"d7i.txt\",\"r\")\n",
    "lines = day7input.read().splitlines()\n",
    "day7input.close()\n",
    "\n",
    "import re\n",
    "\n",
    "rules = []\n",
    "\n",
    "for line in lines:\n",
    "    rule = re.split(' bags contain [1-9] | bags contain | bag, [1-9] | bags, [1-9] ',re.sub(r' bag\\.| bags\\.','',line))\n",
    "    rules.append(rule)\n",
    "\n",
    "rules = [s for s in rules if s[1] != 'no other']\n",
    "\n",
    "bags = set()\n",
    "\n",
    "for rule in rules:\n",
    "    if 'shiny gold' in rule[1:]:\n",
    "        bags.add(rule[0])\n",
    "baglen = 1\n",
    "        \n",
    "while len(rules) > 0:\n",
    "    if baglen == len(bags):\n",
    "        break\n",
    "    else:\n",
    "        baglen = len(bags)\n",
    "        \n",
    "    rules = [s for s in rules if s[0] not in bags]        \n",
    "    for rule in rules:\n",
    "        addbags = []\n",
    "        for bag in bags:\n",
    "            if bag in rule[1:]:\n",
    "                addbags.append(rule[0])\n",
    "        for bag in addbags:\n",
    "            bags.add(bag)\n",
    "\n",
    "print('Part 1: '+str(len(bags)))"
   ]
  },
  {
   "cell_type": "code",
   "execution_count": 1,
   "metadata": {},
   "outputs": [
    {
     "ename": "NodeIDAbsentError",
     "evalue": "Parent node 'drab plum' is not in the tree",
     "output_type": "error",
     "traceback": [
      "\u001b[1;31m---------------------------------------------------------------------------\u001b[0m",
      "\u001b[1;31mNodeIDAbsentError\u001b[0m                         Traceback (most recent call last)",
      "\u001b[1;32m<ipython-input-1-c09150f484dd>\u001b[0m in \u001b[0;36m<module>\u001b[1;34m\u001b[0m\n\u001b[0;32m     18\u001b[0m \u001b[1;32mfor\u001b[0m \u001b[0mrule\u001b[0m \u001b[1;32min\u001b[0m \u001b[0mruledict\u001b[0m\u001b[1;33m.\u001b[0m\u001b[0mkeys\u001b[0m\u001b[1;33m(\u001b[0m\u001b[1;33m)\u001b[0m\u001b[1;33m:\u001b[0m\u001b[1;33m\u001b[0m\u001b[1;33m\u001b[0m\u001b[0m\n\u001b[0;32m     19\u001b[0m     \u001b[1;32mfor\u001b[0m \u001b[0mchild\u001b[0m \u001b[1;32min\u001b[0m \u001b[0mruledict\u001b[0m\u001b[1;33m[\u001b[0m\u001b[0mrule\u001b[0m\u001b[1;33m]\u001b[0m\u001b[1;33m:\u001b[0m\u001b[1;33m\u001b[0m\u001b[1;33m\u001b[0m\u001b[0m\n\u001b[1;32m---> 20\u001b[1;33m         \u001b[0mtree\u001b[0m\u001b[1;33m.\u001b[0m\u001b[0mcreate_node\u001b[0m\u001b[1;33m(\u001b[0m\u001b[0mre\u001b[0m\u001b[1;33m.\u001b[0m\u001b[0msub\u001b[0m\u001b[1;33m(\u001b[0m\u001b[1;34mr'[0-9] '\u001b[0m\u001b[1;33m,\u001b[0m\u001b[1;34m''\u001b[0m\u001b[1;33m,\u001b[0m\u001b[0mchild\u001b[0m\u001b[1;33m)\u001b[0m\u001b[1;33m,\u001b[0m\u001b[0mparent\u001b[0m\u001b[1;33m=\u001b[0m\u001b[0mrule\u001b[0m\u001b[1;33m)\u001b[0m\u001b[1;33m\u001b[0m\u001b[1;33m\u001b[0m\u001b[0m\n\u001b[0m\u001b[0;32m     21\u001b[0m \u001b[1;33m\u001b[0m\u001b[0m\n\u001b[0;32m     22\u001b[0m \u001b[0mdisplay\u001b[0m\u001b[1;33m(\u001b[0m\u001b[0mruledict\u001b[0m\u001b[1;33m)\u001b[0m\u001b[1;33m\u001b[0m\u001b[1;33m\u001b[0m\u001b[0m\n",
      "\u001b[1;32mC:\\ProgramData\\Anaconda3\\lib\\site-packages\\treelib\\tree.py\u001b[0m in \u001b[0;36mcreate_node\u001b[1;34m(self, tag, identifier, parent, data)\u001b[0m\n\u001b[0;32m    370\u001b[0m         \"\"\"\n\u001b[0;32m    371\u001b[0m         \u001b[0mnode\u001b[0m \u001b[1;33m=\u001b[0m \u001b[0mself\u001b[0m\u001b[1;33m.\u001b[0m\u001b[0mnode_class\u001b[0m\u001b[1;33m(\u001b[0m\u001b[0mtag\u001b[0m\u001b[1;33m=\u001b[0m\u001b[0mtag\u001b[0m\u001b[1;33m,\u001b[0m \u001b[0midentifier\u001b[0m\u001b[1;33m=\u001b[0m\u001b[0midentifier\u001b[0m\u001b[1;33m,\u001b[0m \u001b[0mdata\u001b[0m\u001b[1;33m=\u001b[0m\u001b[0mdata\u001b[0m\u001b[1;33m)\u001b[0m\u001b[1;33m\u001b[0m\u001b[1;33m\u001b[0m\u001b[0m\n\u001b[1;32m--> 372\u001b[1;33m         \u001b[0mself\u001b[0m\u001b[1;33m.\u001b[0m\u001b[0madd_node\u001b[0m\u001b[1;33m(\u001b[0m\u001b[0mnode\u001b[0m\u001b[1;33m,\u001b[0m \u001b[0mparent\u001b[0m\u001b[1;33m)\u001b[0m\u001b[1;33m\u001b[0m\u001b[1;33m\u001b[0m\u001b[0m\n\u001b[0m\u001b[0;32m    373\u001b[0m         \u001b[1;32mreturn\u001b[0m \u001b[0mnode\u001b[0m\u001b[1;33m\u001b[0m\u001b[1;33m\u001b[0m\u001b[0m\n\u001b[0;32m    374\u001b[0m \u001b[1;33m\u001b[0m\u001b[0m\n",
      "\u001b[1;32mC:\\ProgramData\\Anaconda3\\lib\\site-packages\\treelib\\tree.py\u001b[0m in \u001b[0;36madd_node\u001b[1;34m(self, node, parent)\u001b[0m\n\u001b[0;32m    305\u001b[0m                 \u001b[0mself\u001b[0m\u001b[1;33m.\u001b[0m\u001b[0mroot\u001b[0m \u001b[1;33m=\u001b[0m \u001b[0mnode\u001b[0m\u001b[1;33m.\u001b[0m\u001b[0midentifier\u001b[0m\u001b[1;33m\u001b[0m\u001b[1;33m\u001b[0m\u001b[0m\n\u001b[0;32m    306\u001b[0m         \u001b[1;32melif\u001b[0m \u001b[1;32mnot\u001b[0m \u001b[0mself\u001b[0m\u001b[1;33m.\u001b[0m\u001b[0mcontains\u001b[0m\u001b[1;33m(\u001b[0m\u001b[0mpid\u001b[0m\u001b[1;33m)\u001b[0m\u001b[1;33m:\u001b[0m\u001b[1;33m\u001b[0m\u001b[1;33m\u001b[0m\u001b[0m\n\u001b[1;32m--> 307\u001b[1;33m             raise NodeIDAbsentError(\"Parent node '%s' \"\n\u001b[0m\u001b[0;32m    308\u001b[0m                                     \"is not in the tree\" % pid)\n\u001b[0;32m    309\u001b[0m \u001b[1;33m\u001b[0m\u001b[0m\n",
      "\u001b[1;31mNodeIDAbsentError\u001b[0m: Parent node 'drab plum' is not in the tree"
     ]
    }
   ],
   "source": [
    "day7input = open(\"d7i.txt\",\"r\")\n",
    "lines = day7input.read().splitlines()\n",
    "day7input.close()\n",
    "\n",
    "import re\n",
    "from treelib import Node, Tree\n",
    "\n",
    "rules = []\n",
    "\n",
    "for line in lines:\n",
    "    rule = re.split(' bags contain | bags contain | bag, | bags, ',re.sub(r' bag\\.| bags\\.','',line))\n",
    "    rules.append(rule)\n",
    "\n",
    "ruledict = {s[0]:s[1:] for s in rules if s[1] != 'no other'}\n",
    "\n",
    "tree = Tree()\n",
    "\n",
    "for rule in ruledict.keys():\n",
    "    for child in ruledict[rule]:\n",
    "        tree.create_node(re.sub(r'[0-9] ','',child),parent=rule)\n",
    "\n",
    "display(ruledict)"
   ]
  },
  {
   "cell_type": "markdown",
   "metadata": {},
   "source": [
    "# Day 6"
   ]
  },
  {
   "cell_type": "code",
   "execution_count": 8,
   "metadata": {},
   "outputs": [
    {
     "name": "stdout",
     "output_type": "stream",
     "text": [
      "Part 1 : 6735\n",
      "Part 2 : 3221\n"
     ]
    }
   ],
   "source": [
    "day6input = open(\"d6i.txt\",\"r\")\n",
    "groups = day6input.read().split('\\n\\n')\n",
    "day6input.close()\n",
    "\n",
    "\n",
    "## Part 1 ##\n",
    "yes = 0\n",
    "\n",
    "for i in groups:\n",
    "    yes += len(set(i.replace(\"\\n\",\"\")))\n",
    "    \n",
    "print('Part 1 : '+str(yes))\n",
    "\n",
    "yes = 0\n",
    "\n",
    "for i in groups:\n",
    "    answers = i.splitlines()\n",
    "    for j in answers[0]:\n",
    "        if all(j in x for x in answers):\n",
    "            yes += 1\n",
    "            \n",
    "print('Part 2 : '+str(yes))"
   ]
  },
  {
   "cell_type": "markdown",
   "metadata": {},
   "source": [
    "# Day 5"
   ]
  },
  {
   "cell_type": "code",
   "execution_count": 1,
   "metadata": {},
   "outputs": [
    {
     "name": "stdout",
     "output_type": "stream",
     "text": [
      "Part 1: 878\n",
      "Part 2: 504\n"
     ]
    }
   ],
   "source": [
    "day5input = open(\"d5i.txt\",\"r\")\n",
    "lines = day5input.read().splitlines()\n",
    "day5input.close()\n",
    "\n",
    "seatids = []\n",
    "\n",
    "for i in lines:\n",
    "    seatids.append(int(i.replace('F','0').replace('B','1').replace('L','0').replace('R','1'), 2))\n",
    "    \n",
    "print('Part 1: '+ str(max(seatids)))\n",
    "seatids.sort()\n",
    "\n",
    "for i in range(len(seatids)-1):\n",
    "    if seatids[i+1] == seatids[i]+2:\n",
    "        print('Part 2: '+str(seatids[i]+1))\n",
    "        break\n",
    "    "
   ]
  },
  {
   "cell_type": "markdown",
   "metadata": {},
   "source": [
    "# Day 4 "
   ]
  },
  {
   "cell_type": "code",
   "execution_count": 14,
   "metadata": {},
   "outputs": [
    {
     "data": {
      "text/plain": [
       "256"
      ]
     },
     "metadata": {},
     "output_type": "display_data"
    }
   ],
   "source": [
    "## Part 1 ##\n",
    "\n",
    "day4input = open(\"d4i.txt\",\"r\")\n",
    "rawentries = day4input.read().split('\\n\\n')\n",
    "day4input.close()\n",
    "\n",
    "import re\n",
    "entries = []\n",
    "\n",
    "for i in rawentries:\n",
    "    i = re.split(' |\\n',i)\n",
    "    vals = []\n",
    "    for j in i:\n",
    "        vals.append(j.split(':')[0])\n",
    "    entries.append(vals)\n",
    "\n",
    "mand = ['byr','iyr','eyr','hgt','hcl','ecl','pid']    \n",
    "\n",
    "valid = 0\n",
    "\n",
    "\n",
    "for i in entries:\n",
    "    if all(x in i for x in mand):\n",
    "        valid += 1\n",
    "\n",
    "display(valid)"
   ]
  },
  {
   "cell_type": "code",
   "execution_count": 97,
   "metadata": {},
   "outputs": [
    {
     "data": {
      "text/plain": [
       "198"
      ]
     },
     "metadata": {},
     "output_type": "display_data"
    }
   ],
   "source": [
    "## Part 2 ##\n",
    "\n",
    "day4input = open(\"d4i.txt\",\"r\")\n",
    "# Split entries\n",
    "rawentries = day4input.read().split('\\n\\n')\n",
    "day4input.close()\n",
    "\n",
    "import re\n",
    "entries = []\n",
    "\n",
    "# Make each entry a dictionary\n",
    "for i in rawentries:\n",
    "    i = re.split(' |\\n',i)\n",
    "    vals = {}\n",
    "    for j in i:\n",
    "        if len(j) > 1:\n",
    "            key = j.split(':')[0]\n",
    "            val = j.split(':')[1]\n",
    "            vals[key] = val\n",
    "    entries.append(vals)\n",
    "\n",
    "valid = 0\n",
    "\n",
    "ecls =['amb','blu','brn','gry','grn','hzl','oth']\n",
    "\n",
    "for i in entries:\n",
    "    passed = []\n",
    "    if 'byr' in i.keys() and len(i['byr'])==4 and 1920 <= int(i['byr']) <= 2002:\n",
    "        passed.append(1)\n",
    "    if 'iyr' in i.keys() and len(i['iyr'])==4 and 2010 <= int(i['iyr']) <= 2020:\n",
    "        passed.append(2)\n",
    "    if 'eyr' in i.keys() and len(i['eyr'])==4 and 2020 <= int(i['eyr']) <= 2030:\n",
    "        passed.append(3)\n",
    "   \n",
    "    if 'hgt' in i.keys():\n",
    "        if 'cm' in i['hgt']:\n",
    "            if 150 <= int(i['hgt'][:-2]) <= 193:\n",
    "                passed.append(4)\n",
    "        elif 'in' in i['hgt']:\n",
    "            if 59 <= int(i['hgt'][:-2]) <= 76:\n",
    "                passed.append(4)\n",
    "   \n",
    "    if 'hcl' in i.keys() and re.fullmatch(r'#[0-9a-f]{6}',i['hcl']) != None:\n",
    "        passed.append(5)\n",
    "    if 'ecl' in i.keys() and i['ecl'] in ecls:\n",
    "        passed.append(6)\n",
    "    if 'pid' in i.keys() and len(i['pid'])==9:\n",
    "        passed.append(7)\n",
    "    if passed == [1,2,3,4,5,6,7]:\n",
    "        valid += 1\n",
    "\n",
    "display(valid)"
   ]
  },
  {
   "cell_type": "markdown",
   "metadata": {},
   "source": [
    "# Day 3"
   ]
  },
  {
   "cell_type": "code",
   "execution_count": 1,
   "metadata": {},
   "outputs": [
    {
     "name": "stdout",
     "output_type": "stream",
     "text": [
      "[ 79 156  85  82  41]\n"
     ]
    }
   ],
   "source": [
    "import numpy\n",
    "\n",
    "day3input = open(\"d3i.txt\",\"r\")\n",
    "lines = day3input.read().splitlines()\n",
    "day3input.close()\n",
    "\n",
    "width = len(lines[0])\n",
    "treecount = numpy.zeros((5),dtype=int)\n",
    "\n",
    "for i in range(len(lines)):\n",
    "    if lines[i][((i)%width)] == '#':\n",
    "        treecount[0] += 1\n",
    "            \n",
    "\n",
    "for i in range(len(lines)):\n",
    "    if lines[i][((3*i)%width)] == '#':\n",
    "        treecount[1] += 1\n",
    "            \n",
    "\n",
    "for i in range(len(lines)):\n",
    "    if lines[i][((5*i)%width)] == '#':\n",
    "        treecount[2] += 1\n",
    "\n",
    "\n",
    "for i in range(len(lines)):\n",
    "    if lines[i][((7*i)%width)] == '#':\n",
    "        treecount[3] += 1\n",
    "            \n",
    "\n",
    "for i in range(len(lines)):\n",
    "    if i%2 == 0:\n",
    "        if lines[i][((int(i/2))%width)] == '#':\n",
    "            treecount[4] += 1\n",
    "            \n",
    "print(treecount)"
   ]
  },
  {
   "cell_type": "markdown",
   "metadata": {},
   "source": [
    "# Day 2"
   ]
  },
  {
   "cell_type": "code",
   "execution_count": 2,
   "metadata": {},
   "outputs": [
    {
     "name": "stdout",
     "output_type": "stream",
     "text": [
      "625\n"
     ]
    }
   ],
   "source": [
    "## PART 1 ##\n",
    "\n",
    "day2input = open(\"d2i.txt\",\"r\")\n",
    "lines = day2input.read().splitlines()\n",
    "day2input.close()\n",
    "\n",
    "nvalid = 0\n",
    "\n",
    "for line in lines:\n",
    "    limits = [int(i) for i in line.split()[0].split('-')]\n",
    "    letter = line.split()[1][:-1]\n",
    "    passw = line.split()[2]\n",
    "    count = passw.count(letter)\n",
    "    valid = limits[0] <= count <= limits[1]\n",
    "    if valid:\n",
    "        nvalid += 1\n",
    "        \n",
    "print(nvalid)"
   ]
  },
  {
   "cell_type": "code",
   "execution_count": 1,
   "metadata": {},
   "outputs": [
    {
     "name": "stdout",
     "output_type": "stream",
     "text": [
      "391\n"
     ]
    }
   ],
   "source": [
    "## PART 2 ##\n",
    "\n",
    "day2input = open(\"d2i.txt\",\"r\")\n",
    "lines = day2input.read().splitlines()\n",
    "day2input.close()\n",
    "\n",
    "nvalid = 0\n",
    "\n",
    "for line in lines:\n",
    "    limits = [int(i) for i in line.split()[0].split('-')]\n",
    "    letter = line.split()[1][:-1]\n",
    "    passw = line.split()[2]\n",
    "    a = passw[limits[0]-1] == letter\n",
    "    b = passw[limits[1]-1] == letter\n",
    "    valid = a ^ b\n",
    "    if valid:\n",
    "        nvalid += 1\n",
    "        \n",
    "print(nvalid)"
   ]
  }
 ],
 "metadata": {
  "kernelspec": {
   "display_name": "Python 3",
   "language": "python",
   "name": "python3"
  },
  "language_info": {
   "codemirror_mode": {
    "name": "ipython",
    "version": 3
   },
   "file_extension": ".py",
   "mimetype": "text/x-python",
   "name": "python",
   "nbconvert_exporter": "python",
   "pygments_lexer": "ipython3",
   "version": "3.8.3"
  }
 },
 "nbformat": 4,
 "nbformat_minor": 4
}
