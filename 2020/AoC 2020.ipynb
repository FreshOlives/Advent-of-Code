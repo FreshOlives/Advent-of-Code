{
 "cells": [
  {
   "cell_type": "markdown",
   "metadata": {},
   "source": [
    "# Day 13"
   ]
  },
  {
   "cell_type": "code",
   "execution_count": 17,
   "metadata": {},
   "outputs": [
    {
     "name": "stdout",
     "output_type": "stream",
     "text": [
      "370\n",
      "(Time: 1ms)\n"
     ]
    }
   ],
   "source": [
    "import time\n",
    "tic = time.perf_counter()\n",
    "\n",
    "d13i = open(\"d13i.txt\",\"r\")\n",
    "lines = d13i.read().split()\n",
    "d13i.close()\n",
    "\n",
    "import re\n",
    "\n",
    "leavetime = -int(lines[0])\n",
    "buses = [int(x) for x in re.split(',',re.sub(r'x,','',lines[1]))]\n",
    "\n",
    "waits = []\n",
    "\n",
    "for bus in buses:\n",
    "    waits.append(leavetime%bus)\n",
    "    \n",
    "shortest = min(waits)\n",
    "\n",
    "print(shortest*buses[waits.index(shortest)])\n",
    "\n",
    "toc = time.perf_counter()\n",
    "print(f\"(Time: {1000*(toc - tic):0.0f}ms)\")"
   ]
  },
  {
   "cell_type": "code",
   "execution_count": 30,
   "metadata": {},
   "outputs": [
    {
     "name": "stdout",
     "output_type": "stream",
     "text": [
      "894954360381376.0\n",
      "(Time: 2ms)\n"
     ]
    }
   ],
   "source": [
    "import time\n",
    "import numpy as np\n",
    "tic = time.perf_counter()\n",
    "\n",
    "d13i = open(\"d13i.txt\",\"r\")\n",
    "inputs = d13i.read().split()[1].split(',')\n",
    "d13i.close()\n",
    "\n",
    "buses = {}\n",
    "\n",
    "for i in inputs:\n",
    "    if i != 'x':\n",
    "        buses[int(i)]=-int(inputs.index(i))%int(i)\n",
    "        \n",
    "M = np.uint64(1)\n",
    "for x in buses:\n",
    "    M *= x\n",
    "    \n",
    "busnums = sorted(buses.keys())\n",
    "residues = {}\n",
    "\n",
    "for bus in busnums:\n",
    "    val = int(bus)\n",
    "    x = M/val\n",
    "    i = 1\n",
    "    found = False\n",
    "    while not(found):\n",
    "        if (x*i)%val == 1:\n",
    "            found = True\n",
    "            residues[bus] = (x*i) \n",
    "        else:\n",
    "            i += 1\n",
    "        \n",
    "totalsum = 0\n",
    "for bus in buses.keys():\n",
    "    totalsum += np.mod(np.mod(buses[bus],M)*np.mod(residues[bus],M),M)\n",
    "\n",
    "answer = np.mod(totalsum,M)\n",
    "print(answer)\n",
    "    \n",
    "toc = time.perf_counter()\n",
    "print(f\"(Time: {1000*(toc - tic):0.0f}ms)\")"
   ]
  },
  {
   "cell_type": "code",
   "execution_count": 32,
   "metadata": {},
   "outputs": [
    {
     "name": "stdout",
     "output_type": "stream",
     "text": [
      "{29: 0, 37: 14, 631: 602, 13: 5, 19: 9, 23: 17, 383: 323, 41: 12, 17: 8}\n"
     ]
    },
    {
     "data": {
      "text/plain": [
       "894954360381385"
      ]
     },
     "execution_count": 32,
     "metadata": {},
     "output_type": "execute_result"
    }
   ],
   "source": [
    "d13i = open(\"d13i.txt\",\"r\")\n",
    "lines = d13i.read().splitlines()\n",
    "d13i.close()\n",
    "\n",
    "LINES=lines\n",
    "start = int(LINES[0])\n",
    "busses = [\"x\" if x == \"x\" else int(x) for x in LINES[1].split(\",\")]\n",
    "\n",
    "def part2():\n",
    "    mods = {bus: -i % bus for i, bus in enumerate(busses) if bus != \"x\"}\n",
    "    print(mods)\n",
    "    vals = list(reversed(sorted(mods)))\n",
    "    val = mods[vals[0]]\n",
    "    r = vals[0]\n",
    "    for b in vals[1:]:\n",
    "        while val % b != mods[b]:\n",
    "            val += r\n",
    "        r *= b\n",
    "    return val\n",
    "part2()"
   ]
  },
  {
   "cell_type": "code",
   "execution_count": 8,
   "metadata": {},
   "outputs": [
    {
     "name": "stdout",
     "output_type": "stream",
     "text": [
      "0\n"
     ]
    }
   ],
   "source": [
    "print(-(51+23)%37)"
   ]
  },
  {
   "cell_type": "markdown",
   "metadata": {},
   "source": [
    "# Day 12"
   ]
  },
  {
   "cell_type": "code",
   "execution_count": 18,
   "metadata": {},
   "outputs": [
    {
     "name": "stdout",
     "output_type": "stream",
     "text": [
      "426;-478\n",
      "\n",
      "Part 1\n",
      "904\n",
      "(Time: 3ms)\n"
     ]
    }
   ],
   "source": [
    "import time\n",
    "tic = time.perf_counter()\n",
    "\n",
    "d12i = open(\"d12i.txt\",\"r\")\n",
    "instructions = [[x[0],x[1:]] for x in d12i.read().split()]\n",
    "d12i.close()\n",
    "\n",
    "\n",
    "# Directions: N=1 E=2 S=3 W=4 -> R=+1 L=-1\n",
    "dir = 2\n",
    "j=0\n",
    "i=0\n",
    "\n",
    "## Part 1 ##\n",
    "\n",
    "for instr in instructions:\n",
    "    #print(str(i)+';'+str(j))\n",
    "    if instr[0] == 'N':\n",
    "        j += int(instr[1])\n",
    "        #print('Drifting North '+instr[1]+' blocks')\n",
    "    elif instr[0] == 'S':\n",
    "        j -= int(instr[1])\n",
    "        #print('Drifting South '+instr[1]+' blocks')\n",
    "    elif instr[0] == 'E':\n",
    "        i += int(instr[1])\n",
    "        #print('Drifting East '+instr[1]+' blocks')\n",
    "    elif instr[0] == 'W':\n",
    "        i -= int(instr[1])\n",
    "        #print('Drifting West '+instr[1]+' blocks')\n",
    "    elif instr[0] in ['L','R']:\n",
    "        #print('Turning '+ instr[0]+' '+instr[1])\n",
    "        dir += -int(instr[1])/90 if instr[0] == 'L' else int(instr[1])/90\n",
    "    else:\n",
    "        if dir%4 == 1:\n",
    "            j += int(instr[1])\n",
    "            #print('Going Forward North '+instr[1]+' blocks')\n",
    "        elif dir%4 == 3:\n",
    "            j -= int(instr[1])\n",
    "            #print('Going Forward South '+instr[1]+' blocks')\n",
    "        elif dir%4 == 2:\n",
    "            i += int(instr[1])\n",
    "            #print('Going Forward East '+instr[1]+' blocks')\n",
    "        elif dir%4 == 0:\n",
    "            i -= int(instr[1])\n",
    "            #print('Going Forward West '+instr[1]+' blocks')\n",
    "\n",
    "print(str(i)+';'+str(j))\n",
    "            \n",
    "print('\\nPart 1')\n",
    "print(abs(i)+abs(j))\n",
    "\n",
    "toc = time.perf_counter()\n",
    "print(f\"(Time: {1000*(toc - tic):0.0f}ms)\")"
   ]
  },
  {
   "cell_type": "code",
   "execution_count": 18,
   "metadata": {},
   "outputs": [
    {
     "name": "stdout",
     "output_type": "stream",
     "text": [
      "-10766;-7981\n",
      "\n",
      "Part 2\n",
      "18747\n",
      "(Time: 2ms)\n"
     ]
    }
   ],
   "source": [
    "import math\n",
    "import time\n",
    "tic = time.perf_counter()\n",
    "\n",
    "d12i = open(\"d12i.txt\",\"r\")\n",
    "instructions = [[x[0],x[1:]] for x in d12i.read().split()]\n",
    "d12i.close()\n",
    "\n",
    "# Directions: N=1 E=2 S=3 W=4 -> R=+1 L=-1\n",
    "dir = 2\n",
    "j=0\n",
    "i=0\n",
    "waypoint = [10,1]\n",
    "\n",
    "## Part 1 ##\n",
    "\n",
    "for instr in instructions:\n",
    "    #print(waypoint)\n",
    "    #print(str(i)+';'+str(j))\n",
    "    if instr[0] == 'N':\n",
    "        waypoint[1] += int(instr[1])\n",
    "    elif instr[0] == 'S':\n",
    "        waypoint[1] -= int(instr[1])\n",
    "    elif instr[0] == 'E':\n",
    "        waypoint[0] += int(instr[1])\n",
    "    elif instr[0] == 'W':\n",
    "        waypoint[0] -= int(instr[1])\n",
    "    \n",
    "    elif instr[0] == 'L':\n",
    "        theta = math.radians(int(instr[1]))\n",
    "        x = waypoint[0]\n",
    "        y = waypoint[1]\n",
    "        waypoint[0] = x*int(math.cos(theta)) - y*int(math.sin(theta))\n",
    "        waypoint[1] = x*int(math.sin(theta)) + y*int(math.cos(theta))\n",
    "    elif instr[0] == 'R':\n",
    "        theta = math.radians(int(instr[1]))\n",
    "        x = waypoint[0]\n",
    "        y = waypoint[1]\n",
    "        waypoint[0] = x*int(math.cos(-theta)) - y*int(math.sin(-theta))\n",
    "        waypoint[1] = x*int(math.sin(-theta)) + y*int(math.cos(-theta))\n",
    "    else:\n",
    "        i += int(instr[1])*waypoint[0]\n",
    "        j += int(instr[1])*waypoint[1] \n",
    "\n",
    "print(str(i)+';'+str(j))\n",
    "            \n",
    "print('\\nPart 2')\n",
    "print(abs(i)+abs(j))\n",
    "        \n",
    "toc = time.perf_counter()\n",
    "print(f\"(Time: {1000*(toc - tic):0.0f}ms)\")"
   ]
  },
  {
   "cell_type": "markdown",
   "metadata": {},
   "source": [
    "# Day 11"
   ]
  },
  {
   "cell_type": "code",
   "execution_count": 22,
   "metadata": {},
   "outputs": [
    {
     "name": "stdout",
     "output_type": "stream",
     "text": [
      "Part 1: \n",
      "2386\n",
      "(Time: 1725ms)\n"
     ]
    }
   ],
   "source": [
    "import time\n",
    "tic = time.perf_counter()\n",
    "\n",
    "day11input = open(\"d11i.txt\",\"r\")\n",
    "lines = day11input.read().splitlines()\n",
    "day11input.close()\n",
    "\n",
    "\n",
    "def countneighbors(x,y,seats):\n",
    "    neighbors = 0\n",
    "    hor = [-1,0,1]\n",
    "    vert = [-1,0,1]\n",
    "    \n",
    "    #check for edges\n",
    "    if x == 0 or x == len(seats)-1:\n",
    "        hor = [0,1] if x == 0 else [-1,0]\n",
    "    if y == 0 or y == len(seats[0])-1:\n",
    "        vert = [0,1] if y == 0 else [-1,0]\n",
    "    #print('Checking around '+str(x)+';'+str(y))\n",
    "    for i in hor:\n",
    "        for j in vert:\n",
    "            #print(str(x+i)+';'+str(y+j))\n",
    "            if seats[x+i][y+j] == '#':\n",
    "                neighbors += 1\n",
    "    \n",
    "    if seats[x][y] == '#':\n",
    "        neighbors -= 1\n",
    "    return neighbors\n",
    "\n",
    "sits = [1]\n",
    "leaves = [1]\n",
    "\n",
    "while not(sits==[] and leaves==[]):\n",
    "    sits=[];\n",
    "    leaves=[];\n",
    "    for x in range(len(lines)):\n",
    "        for y in range(len(lines[x])):\n",
    "            adj = countneighbors(x,y,lines)\n",
    "            if lines[x][y] == '#' and adj >= 4:\n",
    "                leaves.append([x, y])\n",
    "            elif lines[x][y] == 'L' and adj == 0:\n",
    "                sits.append([x,y])\n",
    "\n",
    "    for sit in sits:\n",
    "        lines[sit[0]] = lines[sit[0]][:sit[1]]+'#'+lines[sit[0]][sit[1]+1:]\n",
    "    for leave in leaves:\n",
    "        lines[leave[0]] = lines[leave[0]][:leave[1]]+'L'+lines[leave[0]][leave[1]+1:]\n",
    "    \n",
    "\n",
    "countseats = 0\n",
    "for line in lines:\n",
    "    for seat in line:\n",
    "        if seat == '#':\n",
    "            countseats += 1\n",
    "            \n",
    "print('Part 1: ')\n",
    "print(countseats)\n",
    "\n",
    "toc = time.perf_counter()\n",
    "print(f\"(Time: {1000*(toc - tic):0.0f}ms)\")"
   ]
  },
  {
   "cell_type": "code",
   "execution_count": 23,
   "metadata": {},
   "outputs": [
    {
     "name": "stdout",
     "output_type": "stream",
     "text": [
      "Part 2: \n",
      "2091\n",
      "(Time: 4065ms)\n"
     ]
    }
   ],
   "source": [
    "import time\n",
    "tic = time.perf_counter()\n",
    "\n",
    "day11input = open(\"d11i.txt\",\"r\")\n",
    "lines = day11input.read().splitlines()\n",
    "day11input.close()\n",
    "\n",
    "def countneighbors(x,y,seats):\n",
    "    neighbors = 0\n",
    "    \n",
    "    #check W\n",
    "    i = 1\n",
    "    while x+i < len(seats) and seats[x+i][y] == '.':\n",
    "        i += 1\n",
    "    if x+i < len(seats) and seats[x+i][y] == '#':\n",
    "        neighbors += 1\n",
    "        \n",
    "    #check E\n",
    "    i = -1\n",
    "    while x+i >= 0 and seats[x+i][y] == '.':\n",
    "        i -= 1\n",
    "    if x+i >= 0 and seats[x+i][y] == '#':\n",
    "        neighbors += 1\n",
    "    \n",
    "    #check N\n",
    "    j = 1\n",
    "    while y+j < len(seats[0]) and seats[x][y+j] == '.':\n",
    "        j += 1\n",
    "    if y+j < len(seats[0]) and seats[x][y+j] == '#':\n",
    "        neighbors += 1\n",
    "        \n",
    "    #check S\n",
    "    j = -1\n",
    "    while y+j >= 0 and seats[x][y+j] == '.':\n",
    "        j -= 1\n",
    "    if y+j >= 0 and seats[x][y+j] == '#':\n",
    "        neighbors += 1\n",
    "        \n",
    "    #check NE\n",
    "    j = 1\n",
    "    i = 1\n",
    "    while y+j < len(seats[0]) and x+i < len(seats) and seats[x+i][y+j] == '.':\n",
    "        j += 1\n",
    "        i += 1\n",
    "    if y+j < len(seats[0]) and x+i < len(seats) and seats[x+i][y+j] == '#':\n",
    "        neighbors += 1\n",
    "\n",
    "    #check NW\n",
    "    j = 1\n",
    "    i = -1\n",
    "    while y+j < len(seats[0]) and x+i >= 0 and seats[x+i][y+j] == '.':\n",
    "        j += 1\n",
    "        i -= 1\n",
    "    if y+j < len(seats[0]) and x+i >= 0 and seats[x+i][y+j] == '#':\n",
    "        neighbors += 1\n",
    "        \n",
    "    #check SW\n",
    "    j = -1\n",
    "    i = -1\n",
    "    while y+j >= 0 and x+i >= 0 and seats[x+i][y+j] == '.':\n",
    "        j -= 1\n",
    "        i -= 1\n",
    "    if y+j >= 0 and x+i >= 0 and seats[x+i][y+j] == '#':\n",
    "        neighbors += 1\n",
    "        \n",
    "    #check SE\n",
    "    j = -1\n",
    "    i = 1\n",
    "    while y+j >= 0 and x+i < len(seats) and seats[x+i][y+j] == '.':\n",
    "        j -= 1\n",
    "        i += 1\n",
    "    if y+j >= 0 and x+i < len(seats) and seats[x+i][y+j] == '#':\n",
    "        neighbors += 1\n",
    "        \n",
    "    return neighbors\n",
    "\n",
    "sits = [1]\n",
    "leaves = [1]\n",
    "\n",
    "while not(sits==[] and leaves==[]):\n",
    "    sits=[];\n",
    "    leaves=[];\n",
    "    for x in range(len(lines)):\n",
    "        for y in range(len(lines[x])):\n",
    "            adj = countneighbors(x,y,lines)\n",
    "            if lines[x][y] == '#' and adj >= 5:\n",
    "                leaves.append([x, y])\n",
    "            elif lines[x][y] == 'L' and adj == 0:\n",
    "                sits.append([x,y])\n",
    "\n",
    "    for sit in sits:\n",
    "        lines[sit[0]] = lines[sit[0]][:sit[1]]+'#'+lines[sit[0]][sit[1]+1:]\n",
    "    for leave in leaves:\n",
    "        lines[leave[0]] = lines[leave[0]][:leave[1]]+'L'+lines[leave[0]][leave[1]+1:]\n",
    "\n",
    "countseats = 0\n",
    "for line in lines:\n",
    "    for seat in line:\n",
    "        if seat == '#':\n",
    "            countseats += 1\n",
    "\n",
    "print('Part 2: ')\n",
    "print(countseats)\n",
    "\n",
    "toc = time.perf_counter()\n",
    "print(f\"(Time: {1000*(toc - tic):0.0f}ms)\")"
   ]
  },
  {
   "cell_type": "markdown",
   "metadata": {},
   "source": [
    "# Day 10"
   ]
  },
  {
   "cell_type": "code",
   "execution_count": 16,
   "metadata": {},
   "outputs": [
    {
     "name": "stdout",
     "output_type": "stream",
     "text": [
      "Part 1\n",
      "2059\n",
      "(Time: 1ms)\n",
      "Part 2\n",
      "86812553324672\n",
      "(Time: 0ms)\n"
     ]
    }
   ],
   "source": [
    "import time\n",
    "tic = time.perf_counter()\n",
    "\n",
    "day10input = open(\"d10i.txt\",\"r\")\n",
    "lines = [int(x) for x in day10input.read().splitlines()]\n",
    "day10input.close()\n",
    "\n",
    "lines.sort(reverse = True)\n",
    "\n",
    "import numpy as np\n",
    "\n",
    "i = 0\n",
    "threes = 1\n",
    "ones = 1\n",
    "\n",
    "while i in range(len(lines)-1):\n",
    "    if lines[i]-lines[i+1] == 3:\n",
    "        threes += 1\n",
    "    elif lines[i]-lines[i+1] == 1:\n",
    "        ones += 1\n",
    "    i += 1\n",
    "\n",
    "print('Part 1')\n",
    "print(threes*ones)\n",
    "\n",
    "toc = time.perf_counter()\n",
    "print(f\"(Time: {1000*(toc - tic):0.0f}ms)\")\n",
    "tic = time.perf_counter()\n",
    "\n",
    "runs = []\n",
    "run = []\n",
    "lines.append(0)\n",
    "lines.append(lines[0]+3)\n",
    "lines.sort(reverse = True)\n",
    "\n",
    "for i in range(len(lines)-1):\n",
    "    if lines[i]-lines[i+1] == 1:\n",
    "        run.append(lines[i])\n",
    "    else:\n",
    "        run.append(lines[i])\n",
    "        runs.append(run)\n",
    "        run = []\n",
    "\n",
    "run.append(0)\n",
    "runs.append(run)\n",
    "\n",
    "maxlen = max(len(i) for i in runs)\n",
    "\n",
    "trib = [0,1,1]\n",
    "for i in range(maxlen-1):\n",
    "    trib.append(trib[i]+trib[i+1]+trib[i+2])\n",
    "\n",
    "paths = []\n",
    "\n",
    "for i in range(len(runs)):\n",
    "    if len(runs[i]) != 1:\n",
    "        paths.append(trib[len(runs[i])])\n",
    "        \n",
    "product = 1\n",
    "for i in paths:\n",
    "    product *= i\n",
    "                          \n",
    "print('Part 2')\n",
    "print(product)\n",
    "\n",
    "toc = time.perf_counter()\n",
    "print(f\"(Time: {1000*(toc - tic):0.0f}ms)\")"
   ]
  },
  {
   "cell_type": "code",
   "execution_count": null,
   "metadata": {},
   "outputs": [],
   "source": []
  },
  {
   "cell_type": "markdown",
   "metadata": {},
   "source": [
    "# Day 9"
   ]
  },
  {
   "cell_type": "code",
   "execution_count": 17,
   "metadata": {},
   "outputs": [
    {
     "name": "stdout",
     "output_type": "stream",
     "text": [
      "Part 1: 1398413738\n",
      "(Time: 7ms)\n",
      "Part 2: 169521051\n",
      "(Time: 405ms)\n"
     ]
    }
   ],
   "source": [
    "import time\n",
    "tic = time.perf_counter()\n",
    "\n",
    "day9input = open(\"d9i.txt\",\"r\")\n",
    "lines = [int(x) for x in day9input.read().splitlines()]\n",
    "day9input.close()\n",
    "\n",
    "\n",
    "## Part 1 ##\n",
    "\n",
    "prenum = 25\n",
    "\n",
    "index = prenum\n",
    "found = True\n",
    "\n",
    "while index in range(len(lines)) and found:\n",
    "    found = False\n",
    "    preamble = lines[index-prenum:index]\n",
    "    for number in preamble:\n",
    "        if lines[index]-number in preamble:\n",
    "            found = True\n",
    "            continue\n",
    "    index += 1\n",
    "\n",
    "invalid = lines[index-1]\n",
    "print('Part 1: '+str(invalid))\n",
    "\n",
    "toc = time.perf_counter()\n",
    "print(f\"(Time: {1000*(toc - tic):0.0f}ms)\")\n",
    "tic = time.perf_counter()\n",
    "\n",
    "## Part 2 ##\n",
    "\n",
    "index = 0\n",
    "found = False\n",
    "\n",
    "while index in range(len(lines)) and not(found):\n",
    "    length = 1 \n",
    "    under = True\n",
    "    while under:\n",
    "        if sum(lines[index:index+length]) == invalid:\n",
    "            found = True\n",
    "            smaller = min(lines[index:index+length])\n",
    "            bigger = max(lines[index:index+length])\n",
    "            break\n",
    "        elif sum(lines[index:index+length]) > invalid:\n",
    "            under = False\n",
    "        else:\n",
    "            length += 1\n",
    "    index += 1\n",
    "\n",
    "print('Part 2: '+str(smaller+bigger))\n",
    "\n",
    "toc = time.perf_counter()\n",
    "print(f\"(Time: {1000*(toc - tic):0.0f}ms)\")"
   ]
  },
  {
   "cell_type": "markdown",
   "metadata": {},
   "source": [
    "# Day 8"
   ]
  },
  {
   "cell_type": "code",
   "execution_count": 19,
   "metadata": {},
   "outputs": [
    {
     "name": "stdout",
     "output_type": "stream",
     "text": [
      "LOOP ALERT\n",
      "1337\n",
      "(Time: 2ms)\n"
     ]
    }
   ],
   "source": [
    "import time\n",
    "tic = time.perf_counter()\n",
    "\n",
    "day8input = open(\"d8i.txt\",\"r\")\n",
    "lines = day8input.read().splitlines()\n",
    "day8input.close()\n",
    "\n",
    "lines = [x.split(' ') for x in lines]\n",
    "\n",
    "acc = 0\n",
    "i = 0\n",
    "done = []\n",
    "\n",
    "while i in range(len(lines)):\n",
    "    instr = lines[i]\n",
    "    if i in done:\n",
    "        print('LOOP ALERT')\n",
    "        break\n",
    "    elif instr[0] == 'nop':\n",
    "        done.append(i)\n",
    "        i +=1\n",
    "    elif instr[0] == 'acc':\n",
    "        acc += int(instr[1])\n",
    "        done.append(i)\n",
    "        i += 1\n",
    "    elif instr[0] == 'jmp':\n",
    "        done.append(i)\n",
    "        i += int(instr[1])\n",
    "\n",
    "print(acc)\n",
    "\n",
    "toc = time.perf_counter()\n",
    "print(f\"(Time: {1000*(toc - tic):0.0f}ms)\")"
   ]
  },
  {
   "cell_type": "code",
   "execution_count": 18,
   "metadata": {},
   "outputs": [
    {
     "name": "stdout",
     "output_type": "stream",
     "text": [
      "1358\n",
      "(Time: 519ms)\n"
     ]
    }
   ],
   "source": [
    "# Today I learned that list copies are done by reference, and not by value\n",
    "\n",
    "from copy import deepcopy\n",
    "import time\n",
    "tic = time.perf_counter()\n",
    "\n",
    "day8input = open(\"d8i.txt\",\"r\")\n",
    "lines = day8input.read().splitlines()\n",
    "day8input.close()\n",
    "\n",
    "lines = [x.split(' ') for x in lines]\n",
    "\n",
    "switch=[]\n",
    "i = 0\n",
    "\n",
    "while i in range(len(lines)):\n",
    "    instr = lines[i]\n",
    "    if instr[0] == 'jmp' or instr[0] == 'nop':\n",
    "        switch.append(i)\n",
    "    i += 1\n",
    "\n",
    "\n",
    "for j in switch:\n",
    "    acc = 0\n",
    "    i = 0\n",
    "    done = []\n",
    "    correct = deepcopy(lines)\n",
    "\n",
    "    if lines[j][0] != 'jmp':\n",
    "        correct[j][0] = 'jmp'\n",
    "    elif lines[j][0] == 'jmp':\n",
    "        correct[j][0] = 'nop'\n",
    "\n",
    "    while i in range(len(lines)):\n",
    "        instr = correct[i]\n",
    "        if i == len(lines)-1:\n",
    "            print(acc)\n",
    "            break\n",
    "        if i in done:\n",
    "            break\n",
    "        elif instr[0] == 'nop':\n",
    "            done.append(i)\n",
    "            i +=1\n",
    "        elif instr[0] == 'acc':\n",
    "            acc += int(instr[1])\n",
    "            done.append(i)\n",
    "            i += 1\n",
    "        elif instr[0] == 'jmp':\n",
    "            done.append(i)\n",
    "            i += int(instr[1])\n",
    "            \n",
    "toc = time.perf_counter()\n",
    "print(f\"(Time: {1000*(toc - tic):0.0f}ms)\")"
   ]
  },
  {
   "cell_type": "markdown",
   "metadata": {},
   "source": [
    "# Day 7"
   ]
  },
  {
   "cell_type": "code",
   "execution_count": 25,
   "metadata": {},
   "outputs": [
    {
     "name": "stdout",
     "output_type": "stream",
     "text": [
      "Part 1: 151\n",
      "(Time: 55ms)\n"
     ]
    }
   ],
   "source": [
    "import time\n",
    "tic = time.perf_counter()\n",
    "\n",
    "day7input = open(\"d7i.txt\",\"r\")\n",
    "lines = day7input.read().splitlines()\n",
    "day7input.close()\n",
    "\n",
    "import re\n",
    "\n",
    "rules = []\n",
    "\n",
    "for line in lines:\n",
    "    rule = re.split(' bags contain [1-9] | bags contain | bag, [1-9] | bags, [1-9] ',re.sub(r' bag\\.| bags\\.','',line))\n",
    "    rules.append(rule)\n",
    "\n",
    "rules = [s for s in rules if s[1] != 'no other']\n",
    "\n",
    "bags = set()\n",
    "\n",
    "for rule in rules:\n",
    "    if 'shiny gold' in rule[1:]:\n",
    "        bags.add(rule[0])\n",
    "baglen = 1\n",
    "        \n",
    "while len(rules) > 0:\n",
    "    if baglen == len(bags):\n",
    "        break\n",
    "    else:\n",
    "        baglen = len(bags)\n",
    "        \n",
    "    rules = [s for s in rules if s[0] not in bags]        \n",
    "    for rule in rules:\n",
    "        addbags = []\n",
    "        for bag in bags:\n",
    "            if bag in rule[1:]:\n",
    "                addbags.append(rule[0])\n",
    "        for bag in addbags:\n",
    "            bags.add(bag)\n",
    "\n",
    "print('Part 1: '+str(len(bags)))\n",
    "\n",
    "toc = time.perf_counter()\n",
    "print(f\"(Time: {1000*(toc - tic):0.0f}ms)\")"
   ]
  },
  {
   "cell_type": "code",
   "execution_count": 24,
   "metadata": {},
   "outputs": [
    {
     "name": "stdout",
     "output_type": "stream",
     "text": [
      "Part 2:\n",
      "41559\n",
      "(Time: 33ms)\n"
     ]
    }
   ],
   "source": [
    "import time\n",
    "tic = time.perf_counter()\n",
    "\n",
    "day7input = open(\"d7i.txt\",\"r\")\n",
    "lines = day7input.read().splitlines()\n",
    "day7input.close()\n",
    "\n",
    "import re\n",
    "from treelib import Node, Tree\n",
    "\n",
    "rules = []\n",
    "\n",
    "for line in lines:\n",
    "    rule = re.split(' bags contain | bags contain | bag, | bags, ',re.sub(r' bag\\.| bags\\.','',line))\n",
    "    rules.append(rule)\n",
    "\n",
    "counted = {}\n",
    "    \n",
    "for rule in rules:\n",
    "    if rule[1] == 'no other':\n",
    "        counted[rule[0]] = 1\n",
    "\n",
    "while True:\n",
    "    for rule in rules:\n",
    "        if all(child[2:] in counted.keys() for child in rule[1:]):\n",
    "            counter = 0\n",
    "            for child in rule[1:]:\n",
    "                counter += int(child[:1])*int(counted[child[2:]])\n",
    "            counted[rule[0]] = counter+1\n",
    "\n",
    "    if 'shiny gold' in counted.keys():\n",
    "        print('Part 2:')\n",
    "        print(counted['shiny gold']-1)\n",
    "        break\n",
    "        \n",
    "toc = time.perf_counter()\n",
    "print(f\"(Time: {1000*(toc - tic):0.0f}ms)\")"
   ]
  },
  {
   "cell_type": "markdown",
   "metadata": {},
   "source": [
    "# Day 6"
   ]
  },
  {
   "cell_type": "code",
   "execution_count": 26,
   "metadata": {},
   "outputs": [
    {
     "name": "stdout",
     "output_type": "stream",
     "text": [
      "Part 1 : 6735\n",
      "(Time: 11ms)\n",
      "Part 2 : 3221\n",
      "(Time: 3ms)\n"
     ]
    }
   ],
   "source": [
    "import time\n",
    "tic = time.perf_counter()\n",
    "\n",
    "day6input = open(\"d6i.txt\",\"r\")\n",
    "groups = day6input.read().split('\\n\\n')\n",
    "day6input.close()\n",
    "\n",
    "\n",
    "## Part 1 ##\n",
    "yes = 0\n",
    "\n",
    "for i in groups:\n",
    "    yes += len(set(i.replace(\"\\n\",\"\")))\n",
    "    \n",
    "print('Part 1 : '+str(yes))\n",
    "\n",
    "toc = time.perf_counter()\n",
    "print(f\"(Time: {1000*(toc - tic):0.0f}ms)\")\n",
    "tic = time.perf_counter()\n",
    "\n",
    "## Part 2 ##\n",
    "\n",
    "yes = 0\n",
    "\n",
    "for i in groups:\n",
    "    answers = i.splitlines()\n",
    "    for j in answers[0]:\n",
    "        if all(j in x for x in answers):\n",
    "            yes += 1\n",
    "            \n",
    "print('Part 2 : '+str(yes))\n",
    "\n",
    "toc = time.perf_counter()\n",
    "print(f\"(Time: {1000*(toc - tic):0.0f}ms)\")"
   ]
  },
  {
   "cell_type": "markdown",
   "metadata": {},
   "source": [
    "# Day 5"
   ]
  },
  {
   "cell_type": "code",
   "execution_count": 27,
   "metadata": {},
   "outputs": [
    {
     "name": "stdout",
     "output_type": "stream",
     "text": [
      "Part 1: 878\n",
      "(Time: 9ms)\n",
      "Part 2: 504\n",
      "(Time: 0ms)\n"
     ]
    }
   ],
   "source": [
    "import time\n",
    "tic = time.perf_counter()\n",
    "\n",
    "day5input = open(\"d5i.txt\",\"r\")\n",
    "lines = day5input.read().splitlines()\n",
    "day5input.close()\n",
    "\n",
    "seatids = []\n",
    "\n",
    "for i in lines:\n",
    "    seatids.append(int(i.replace('F','0').replace('B','1').replace('L','0').replace('R','1'), 2))\n",
    "    \n",
    "print('Part 1: '+ str(max(seatids)))\n",
    "seatids.sort()\n",
    "\n",
    "toc = time.perf_counter()\n",
    "print(f\"(Time: {1000*(toc - tic):0.0f}ms)\")\n",
    "tic = time.perf_counter()\n",
    "\n",
    "for i in range(len(seatids)-1):\n",
    "    if seatids[i+1] == seatids[i]+2:\n",
    "        print('Part 2: '+str(seatids[i]+1))\n",
    "        break\n",
    "\n",
    "toc = time.perf_counter()\n",
    "print(f\"(Time: {1000*(toc - tic):0.0f}ms)\")"
   ]
  },
  {
   "cell_type": "markdown",
   "metadata": {},
   "source": [
    "# Day 4 "
   ]
  },
  {
   "cell_type": "code",
   "execution_count": 31,
   "metadata": {},
   "outputs": [
    {
     "name": "stdout",
     "output_type": "stream",
     "text": [
      "256\n",
      "(Time: 3ms)\n"
     ]
    }
   ],
   "source": [
    "## Part 1 ##\n",
    "import time\n",
    "tic = time.perf_counter()\n",
    "\n",
    "day4input = open(\"d4i.txt\",\"r\")\n",
    "rawentries = day4input.read().split('\\n\\n')\n",
    "day4input.close()\n",
    "\n",
    "import re\n",
    "entries = []\n",
    "\n",
    "for i in rawentries:\n",
    "    i = re.split(' |\\n',i)\n",
    "    vals = []\n",
    "    for j in i:\n",
    "        vals.append(j.split(':')[0])\n",
    "    entries.append(vals)\n",
    "\n",
    "mand = ['byr','iyr','eyr','hgt','hcl','ecl','pid']    \n",
    "\n",
    "valid = 0\n",
    "\n",
    "\n",
    "for i in entries:\n",
    "    if all(x in i for x in mand):\n",
    "        valid += 1\n",
    "\n",
    "print(valid)\n",
    "\n",
    "toc = time.perf_counter()\n",
    "print(f\"(Time: {1000*(toc - tic):0.0f}ms)\")"
   ]
  },
  {
   "cell_type": "code",
   "execution_count": 30,
   "metadata": {},
   "outputs": [
    {
     "name": "stdout",
     "output_type": "stream",
     "text": [
      "198\n",
      "(Time: 5ms)\n"
     ]
    }
   ],
   "source": [
    "## Part 2 ##\n",
    "import time\n",
    "tic = time.perf_counter()\n",
    "\n",
    "day4input = open(\"d4i.txt\",\"r\")\n",
    "# Split entries\n",
    "rawentries = day4input.read().split('\\n\\n')\n",
    "day4input.close()\n",
    "\n",
    "import re\n",
    "entries = []\n",
    "\n",
    "# Make each entry a dictionary\n",
    "for i in rawentries:\n",
    "    i = re.split(' |\\n',i)\n",
    "    vals = {}\n",
    "    for j in i:\n",
    "        if len(j) > 1:\n",
    "            key = j.split(':')[0]\n",
    "            val = j.split(':')[1]\n",
    "            vals[key] = val\n",
    "    entries.append(vals)\n",
    "\n",
    "valid = 0\n",
    "\n",
    "ecls =['amb','blu','brn','gry','grn','hzl','oth']\n",
    "\n",
    "for i in entries:\n",
    "    passed = []\n",
    "    if 'byr' in i.keys() and len(i['byr'])==4 and 1920 <= int(i['byr']) <= 2002:\n",
    "        passed.append(1)\n",
    "    if 'iyr' in i.keys() and len(i['iyr'])==4 and 2010 <= int(i['iyr']) <= 2020:\n",
    "        passed.append(2)\n",
    "    if 'eyr' in i.keys() and len(i['eyr'])==4 and 2020 <= int(i['eyr']) <= 2030:\n",
    "        passed.append(3)\n",
    "   \n",
    "    if 'hgt' in i.keys():\n",
    "        if 'cm' in i['hgt']:\n",
    "            if 150 <= int(i['hgt'][:-2]) <= 193:\n",
    "                passed.append(4)\n",
    "        elif 'in' in i['hgt']:\n",
    "            if 59 <= int(i['hgt'][:-2]) <= 76:\n",
    "                passed.append(4)\n",
    "   \n",
    "    if 'hcl' in i.keys() and re.fullmatch(r'#[0-9a-f]{6}',i['hcl']) != None:\n",
    "        passed.append(5)\n",
    "    if 'ecl' in i.keys() and i['ecl'] in ecls:\n",
    "        passed.append(6)\n",
    "    if 'pid' in i.keys() and len(i['pid'])==9:\n",
    "        passed.append(7)\n",
    "    if passed == [1,2,3,4,5,6,7]:\n",
    "        valid += 1\n",
    "\n",
    "print(valid)\n",
    "\n",
    "toc = time.perf_counter()\n",
    "print(f\"(Time: {1000*(toc - tic):0.0f}ms)\")"
   ]
  },
  {
   "cell_type": "markdown",
   "metadata": {},
   "source": [
    "# Day 3"
   ]
  },
  {
   "cell_type": "code",
   "execution_count": 33,
   "metadata": {},
   "outputs": [
    {
     "name": "stdout",
     "output_type": "stream",
     "text": [
      "[ 79 156  85  82  41]\n",
      "(Time: 2ms)\n"
     ]
    }
   ],
   "source": [
    "import numpy\n",
    "import time\n",
    "tic = time.perf_counter()\n",
    "\n",
    "day3input = open(\"d3i.txt\",\"r\")\n",
    "lines = day3input.read().splitlines()\n",
    "day3input.close()\n",
    "\n",
    "width = len(lines[0])\n",
    "treecount = numpy.zeros((5),dtype=int)\n",
    "\n",
    "for i in range(len(lines)):\n",
    "    if lines[i][((i)%width)] == '#':\n",
    "        treecount[0] += 1\n",
    "            \n",
    "\n",
    "for i in range(len(lines)):\n",
    "    if lines[i][((3*i)%width)] == '#':\n",
    "        treecount[1] += 1\n",
    "            \n",
    "\n",
    "for i in range(len(lines)):\n",
    "    if lines[i][((5*i)%width)] == '#':\n",
    "        treecount[2] += 1\n",
    "\n",
    "\n",
    "for i in range(len(lines)):\n",
    "    if lines[i][((7*i)%width)] == '#':\n",
    "        treecount[3] += 1\n",
    "            \n",
    "\n",
    "for i in range(len(lines)):\n",
    "    if i%2 == 0:\n",
    "        if lines[i][((int(i/2))%width)] == '#':\n",
    "            treecount[4] += 1\n",
    "            \n",
    "print(treecount)\n",
    "\n",
    "toc = time.perf_counter()\n",
    "print(f\"(Time: {1000*(toc - tic):0.0f}ms)\")"
   ]
  },
  {
   "cell_type": "markdown",
   "metadata": {},
   "source": [
    "# Day 2"
   ]
  },
  {
   "cell_type": "code",
   "execution_count": 35,
   "metadata": {},
   "outputs": [
    {
     "name": "stdout",
     "output_type": "stream",
     "text": [
      "625\n",
      "(Time: 4ms)\n"
     ]
    }
   ],
   "source": [
    "## PART 1 ##\n",
    "import time\n",
    "tic = time.perf_counter()\n",
    "\n",
    "day2input = open(\"d2i.txt\",\"r\")\n",
    "lines = day2input.read().splitlines()\n",
    "day2input.close()\n",
    "\n",
    "nvalid = 0\n",
    "\n",
    "for line in lines:\n",
    "    limits = [int(i) for i in line.split()[0].split('-')]\n",
    "    letter = line.split()[1][:-1]\n",
    "    passw = line.split()[2]\n",
    "    count = passw.count(letter)\n",
    "    valid = limits[0] <= count <= limits[1]\n",
    "    if valid:\n",
    "        nvalid += 1\n",
    "        \n",
    "print(nvalid)\n",
    "\n",
    "toc = time.perf_counter()\n",
    "print(f\"(Time: {1000*(toc - tic):0.0f}ms)\")"
   ]
  },
  {
   "cell_type": "code",
   "execution_count": 34,
   "metadata": {},
   "outputs": [
    {
     "name": "stdout",
     "output_type": "stream",
     "text": [
      "391\n",
      "(Time: 10ms)\n"
     ]
    }
   ],
   "source": [
    "## PART 2 ##\n",
    "import time\n",
    "tic = time.perf_counter()\n",
    "\n",
    "day2input = open(\"d2i.txt\",\"r\")\n",
    "lines = day2input.read().splitlines()\n",
    "day2input.close()\n",
    "\n",
    "nvalid = 0\n",
    "\n",
    "for line in lines:\n",
    "    limits = [int(i) for i in line.split()[0].split('-')]\n",
    "    letter = line.split()[1][:-1]\n",
    "    passw = line.split()[2]\n",
    "    a = passw[limits[0]-1] == letter\n",
    "    b = passw[limits[1]-1] == letter\n",
    "    valid = a ^ b\n",
    "    if valid:\n",
    "        nvalid += 1\n",
    "        \n",
    "print(nvalid)\n",
    "\n",
    "toc = time.perf_counter()\n",
    "print(f\"(Time: {1000*(toc - tic):0.0f}ms)\")"
   ]
  }
 ],
 "metadata": {
  "kernelspec": {
   "display_name": "Python 3",
   "language": "python",
   "name": "python3"
  },
  "language_info": {
   "codemirror_mode": {
    "name": "ipython",
    "version": 3
   },
   "file_extension": ".py",
   "mimetype": "text/x-python",
   "name": "python",
   "nbconvert_exporter": "python",
   "pygments_lexer": "ipython3",
   "version": "3.8.3"
  }
 },
 "nbformat": 4,
 "nbformat_minor": 4
}
