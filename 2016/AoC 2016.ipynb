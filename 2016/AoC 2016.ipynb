{
 "cells": [
  {
   "cell_type": "markdown",
   "metadata": {},
   "source": [
    "# Day 2"
   ]
  },
  {
   "cell_type": "code",
   "execution_count": 8,
   "metadata": {},
   "outputs": [
    {
     "name": "stdout",
     "output_type": "stream",
     "text": [
      "Part 1:\n",
      "1,-1\n",
      "0,0\n",
      "0,0\n",
      "-1,0\n",
      "1,-1\n",
      "Part 2:\n",
      "0,-2\n",
      "1,0\n",
      "0,0\n",
      "-1,-1\n",
      "0,-2\n"
     ]
    }
   ],
   "source": [
    "d2i = open(\"d2i.txt\",\"r\")\n",
    "instructions = d2i.read().splitlines()\n",
    "d2i.close()\n",
    "\n",
    "i=0\n",
    "j=0\n",
    "\n",
    "## Part 1 ##\n",
    "\n",
    "print('Part 1:')\n",
    "\n",
    "for instr in instructions:\n",
    "    for d in instr:\n",
    "        if d == 'U' and j < 1:\n",
    "            j += 1\n",
    "        elif d == 'D' and j > -1:\n",
    "            j -= 1\n",
    "        elif d == 'L' and i > -1:\n",
    "            i -= 1\n",
    "        elif d == 'R' and i < 1:\n",
    "            i += 1\n",
    "    print(str(i)+','+str(j))\n",
    "\n",
    "    \n",
    "## Part 2 ##\n",
    "    \n",
    "print('Part 2:')\n",
    "\n",
    "i=-2\n",
    "j=0\n",
    "\n",
    "for instr in instructions:\n",
    "    for d in instr:\n",
    "        if d == 'U' and j < 2-abs(i):\n",
    "            j += 1\n",
    "        elif d == 'D' and j > -2+abs(i):\n",
    "            j -= 1\n",
    "        elif d == 'L' and i > -2+abs(j):\n",
    "            i -= 1\n",
    "        elif d == 'R' and i < 2-abs(j) :\n",
    "            i += 1\n",
    "    print(str(i)+','+str(j))"
   ]
  },
  {
   "cell_type": "markdown",
   "metadata": {},
   "source": [
    "# Day 1"
   ]
  },
  {
   "cell_type": "code",
   "execution_count": 38,
   "metadata": {},
   "outputs": [
    {
     "name": "stdout",
     "output_type": "stream",
     "text": [
      "250\n",
      "22,-129\n"
     ]
    }
   ],
   "source": [
    "d1i = open(\"d1i.txt\",\"r\")\n",
    "instructions = d1i.read().split(', ')\n",
    "d1i.close()\n",
    "\n",
    "# Directions: N=1 E=2 S=3 W=4 -> R=+1 L=-1\n",
    "dir = 1\n",
    "j=0\n",
    "i=0\n",
    "\n",
    "## Part 1 ##\n",
    "\n",
    "for instr in instructions:\n",
    "    dir += -1 if instr[0] == 'L' else 1\n",
    "    if dir%4 == 1:\n",
    "        j += int(instr[1:])\n",
    "        #print('Going North '+instr[1:]+' blocks')\n",
    "    elif dir%4 == 3:\n",
    "        j -= int(instr[1:])\n",
    "        #print('Going South '+instr[1:]+' blocks')\n",
    "    elif dir%4 == 2:\n",
    "        i += int(instr[1:])\n",
    "        #print('Going East  '+instr[1:]+' blocks')\n",
    "    elif dir%4 == 0:\n",
    "        i -= int(instr[1:])\n",
    "        #print('Going West  '+instr[1:]+' blocks')\n",
    "        \n",
    "print(abs(i)+abs(j))\n",
    "\n",
    "\n",
    "## Part 2 ##\n",
    "\n",
    "visited = ['0,0']\n",
    "i = 0\n",
    "j = 0\n",
    "dir = 1\n",
    "found = False\n",
    "\n",
    "for instr in instructions:\n",
    "    dir += -1 if instr[0] == 'L' else 1\n",
    "    if dir%4 == 1:\n",
    "        for k in range(int(instr[1:])):\n",
    "            j += 1\n",
    "            if str(i)+','+str(j) in visited:\n",
    "                print(str(i)+','+str(j))\n",
    "                found = True\n",
    "            else:\n",
    "                visited.append(str(i)+','+str(j))\n",
    "    elif dir%4 == 3:\n",
    "        for k in range(int(instr[1:])):\n",
    "            j -= 1\n",
    "            if str(i)+','+str(j) in visited:\n",
    "                print(str(i)+','+str(j))\n",
    "                found = True\n",
    "            else:\n",
    "                visited.append(str(i)+','+str(j))\n",
    "    elif dir%4 == 2:\n",
    "        for k in range(int(instr[1:])):\n",
    "            i += 1\n",
    "            if str(i)+','+str(j) in visited:\n",
    "                print(str(i)+','+str(j))\n",
    "                found = True\n",
    "            else:\n",
    "                visited.append(str(i)+','+str(j))\n",
    "    elif dir%4 == 0:\n",
    "        for k in range(int(instr[1:])):\n",
    "            i -= 1\n",
    "            if str(i)+','+str(j) in visited:\n",
    "                print(str(i)+','+str(j))\n",
    "                found = True\n",
    "            else:\n",
    "                visited.append(str(i)+','+str(j))\n",
    "    if found:\n",
    "        break\n",
    "        "
   ]
  }
 ],
 "metadata": {
  "kernelspec": {
   "display_name": "Python 3",
   "language": "python",
   "name": "python3"
  },
  "language_info": {
   "codemirror_mode": {
    "name": "ipython",
    "version": 3
   },
   "file_extension": ".py",
   "mimetype": "text/x-python",
   "name": "python",
   "nbconvert_exporter": "python",
   "pygments_lexer": "ipython3",
   "version": "3.8.3"
  }
 },
 "nbformat": 4,
 "nbformat_minor": 4
}
