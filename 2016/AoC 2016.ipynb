{
 "cells": [
  {
   "cell_type": "markdown",
   "metadata": {},
   "source": [
    "# Day 4"
   ]
  },
  {
   "cell_type": "code",
   "execution_count": 80,
   "metadata": {},
   "outputs": [
    {
     "name": "stdout",
     "output_type": "stream",
     "text": [
      "Part 1:\n",
      "137896\n"
     ]
    },
    {
     "data": {
      "text/plain": [
       "[['radioactive flower storage', 521],\n",
       " ['northpole object storage', 501],\n",
       " ['corrosive flower storage', 197],\n",
       " ['rampaging rabbit storage', 608]]"
      ]
     },
     "metadata": {},
     "output_type": "display_data"
    }
   ],
   "source": [
    "d4i = open(\"d4i.txt\",\"r\")\n",
    "lines = d4i.read().splitlines()\n",
    "d4i.close()\n",
    "\n",
    "import re\n",
    "from collections import Counter\n",
    "\n",
    "rooms = []\n",
    "counter = 0\n",
    "\n",
    "for line in lines:\n",
    "    splitline = re.split(r'\\[|-',re.sub(r'(?<=[a-z])-(?=[a-z])|\\]','',line))\n",
    "    splitline[0] = sorted(splitline[0])\n",
    "    counts = Counter(sorted(splitline[0],key=splitline[0].count,reverse=True))\n",
    "    key = ''\n",
    "    for i in counts.keys():\n",
    "        if len(key) == 5:\n",
    "            break\n",
    "        key += i\n",
    "\n",
    "    if key == splitline[2]:\n",
    "        counter += int(splitline[1])\n",
    "        room = re.split(r'\\[|-',re.sub(r'(?<=[a-z])-(?=[a-z])',' ',line))[:2]\n",
    "        if len(room[0].split()[-1]) == 7 and len(room[0].split()[-2]) == 6:\n",
    "            rooms.append([room[0],room[1]])\n",
    "\n",
    "print('Part 1:')\n",
    "print(counter)\n",
    "\n",
    "alphabet = ['a', 'b', 'c', 'd', 'e', 'f', 'g', 'h', 'i', 'j', 'k', 'l', 'm', 'n', 'o', 'p', 'q', 'r', 's', 't', 'u', 'v', 'w', 'x', 'y', 'z']\n",
    "\n",
    "decryptedrooms = []\n",
    "\n",
    "for room in rooms:\n",
    "    text = room[0]\n",
    "    step = int(room[1])\n",
    "    decrypted = ''\n",
    "    for letter in text:\n",
    "        if letter == ' ':\n",
    "            decrypted += ' '\n",
    "        else:\n",
    "            index = alphabet.index(letter)\n",
    "            crypting = (index + step) % 26\n",
    "            decrypted += alphabet[crypting]\n",
    "    decryptedrooms.append([decrypted,step])\n",
    "    \n",
    "display(decryptedrooms)"
   ]
  },
  {
   "cell_type": "markdown",
   "metadata": {},
   "source": [
    "# Day 3"
   ]
  },
  {
   "cell_type": "code",
   "execution_count": 12,
   "metadata": {},
   "outputs": [
    {
     "name": "stdout",
     "output_type": "stream",
     "text": [
      "Part 1 : 862\n",
      "Part 2 : 1577\n"
     ]
    }
   ],
   "source": [
    "d3i = open(\"d3i.txt\",\"r\")\n",
    "lines = d3i.read().splitlines()\n",
    "d3i.close()\n",
    "\n",
    "valid = 0\n",
    "\n",
    "## Part 1 ##\n",
    "\n",
    "for line in lines:\n",
    "    tri = [int(i) for i in line.split()]\n",
    "    tri.sort()\n",
    "    if tri[0] + tri[1] > tri[2]:\n",
    "        valid += 1\n",
    "\n",
    "print('Part 1 : '+str(valid))\n",
    "\n",
    "valid = 0\n",
    "left = []\n",
    "mid = []\n",
    "right = []\n",
    "\n",
    "for line in lines:\n",
    "    tri = [int(i) for i in line.split()]\n",
    "    left.append(tri[0])\n",
    "    mid.append(tri[1])\n",
    "    right.append(tri[2])\n",
    "\n",
    "data = [left,mid,right]\n",
    "    \n",
    "for i in range(0,len(left)-2,3):\n",
    "    for j in data:\n",
    "        tri = j[i:i+3]\n",
    "        tri.sort()\n",
    "        if tri[0] + tri[1] > tri[2]:\n",
    "            valid += 1\n",
    "            \n",
    "print('Part 2 : '+str(valid))"
   ]
  },
  {
   "cell_type": "markdown",
   "metadata": {},
   "source": [
    "# Day 2"
   ]
  },
  {
   "cell_type": "code",
   "execution_count": 8,
   "metadata": {},
   "outputs": [
    {
     "name": "stdout",
     "output_type": "stream",
     "text": [
      "Part 1:\n",
      "1,-1\n",
      "0,0\n",
      "0,0\n",
      "-1,0\n",
      "1,-1\n",
      "Part 2:\n",
      "0,-2\n",
      "1,0\n",
      "0,0\n",
      "-1,-1\n",
      "0,-2\n"
     ]
    }
   ],
   "source": [
    "d2i = open(\"d2i.txt\",\"r\")\n",
    "instructions = d2i.read().splitlines()\n",
    "d2i.close()\n",
    "\n",
    "i=0\n",
    "j=0\n",
    "\n",
    "## Part 1 ##\n",
    "\n",
    "print('Part 1:')\n",
    "\n",
    "for instr in instructions:\n",
    "    for d in instr:\n",
    "        if d == 'U' and j < 1:\n",
    "            j += 1\n",
    "        elif d == 'D' and j > -1:\n",
    "            j -= 1\n",
    "        elif d == 'L' and i > -1:\n",
    "            i -= 1\n",
    "        elif d == 'R' and i < 1:\n",
    "            i += 1\n",
    "    print(str(i)+','+str(j))\n",
    "\n",
    "    \n",
    "## Part 2 ##\n",
    "    \n",
    "print('Part 2:')\n",
    "\n",
    "i=-2\n",
    "j=0\n",
    "\n",
    "for instr in instructions:\n",
    "    for d in instr:\n",
    "        if d == 'U' and j < 2-abs(i):\n",
    "            j += 1\n",
    "        elif d == 'D' and j > -2+abs(i):\n",
    "            j -= 1\n",
    "        elif d == 'L' and i > -2+abs(j):\n",
    "            i -= 1\n",
    "        elif d == 'R' and i < 2-abs(j) :\n",
    "            i += 1\n",
    "    print(str(i)+','+str(j))"
   ]
  },
  {
   "cell_type": "markdown",
   "metadata": {},
   "source": [
    "# Day 1"
   ]
  },
  {
   "cell_type": "code",
   "execution_count": 38,
   "metadata": {},
   "outputs": [
    {
     "name": "stdout",
     "output_type": "stream",
     "text": [
      "250\n",
      "22,-129\n"
     ]
    }
   ],
   "source": [
    "d1i = open(\"d1i.txt\",\"r\")\n",
    "instructions = d1i.read().split(', ')\n",
    "d1i.close()\n",
    "\n",
    "# Directions: N=1 E=2 S=3 W=4 -> R=+1 L=-1\n",
    "dir = 1\n",
    "j=0\n",
    "i=0\n",
    "\n",
    "## Part 1 ##\n",
    "\n",
    "for instr in instructions:\n",
    "    dir += -1 if instr[0] == 'L' else 1\n",
    "    if dir%4 == 1:\n",
    "        j += int(instr[1:])\n",
    "        #print('Going North '+instr[1:]+' blocks')\n",
    "    elif dir%4 == 3:\n",
    "        j -= int(instr[1:])\n",
    "        #print('Going South '+instr[1:]+' blocks')\n",
    "    elif dir%4 == 2:\n",
    "        i += int(instr[1:])\n",
    "        #print('Going East  '+instr[1:]+' blocks')\n",
    "    elif dir%4 == 0:\n",
    "        i -= int(instr[1:])\n",
    "        #print('Going West  '+instr[1:]+' blocks')\n",
    "        \n",
    "print(abs(i)+abs(j))\n",
    "\n",
    "\n",
    "## Part 2 ##\n",
    "\n",
    "visited = ['0,0']\n",
    "i = 0\n",
    "j = 0\n",
    "dir = 1\n",
    "found = False\n",
    "\n",
    "for instr in instructions:\n",
    "    dir += -1 if instr[0] == 'L' else 1\n",
    "    if dir%4 == 1:\n",
    "        for k in range(int(instr[1:])):\n",
    "            j += 1\n",
    "            if str(i)+','+str(j) in visited:\n",
    "                print(str(i)+','+str(j))\n",
    "                found = True\n",
    "            else:\n",
    "                visited.append(str(i)+','+str(j))\n",
    "    elif dir%4 == 3:\n",
    "        for k in range(int(instr[1:])):\n",
    "            j -= 1\n",
    "            if str(i)+','+str(j) in visited:\n",
    "                print(str(i)+','+str(j))\n",
    "                found = True\n",
    "            else:\n",
    "                visited.append(str(i)+','+str(j))\n",
    "    elif dir%4 == 2:\n",
    "        for k in range(int(instr[1:])):\n",
    "            i += 1\n",
    "            if str(i)+','+str(j) in visited:\n",
    "                print(str(i)+','+str(j))\n",
    "                found = True\n",
    "            else:\n",
    "                visited.append(str(i)+','+str(j))\n",
    "    elif dir%4 == 0:\n",
    "        for k in range(int(instr[1:])):\n",
    "            i -= 1\n",
    "            if str(i)+','+str(j) in visited:\n",
    "                print(str(i)+','+str(j))\n",
    "                found = True\n",
    "            else:\n",
    "                visited.append(str(i)+','+str(j))\n",
    "    if found:\n",
    "        break\n",
    "        "
   ]
  }
 ],
 "metadata": {
  "kernelspec": {
   "display_name": "Python 3",
   "language": "python",
   "name": "python3"
  },
  "language_info": {
   "codemirror_mode": {
    "name": "ipython",
    "version": 3
   },
   "file_extension": ".py",
   "mimetype": "text/x-python",
   "name": "python",
   "nbconvert_exporter": "python",
   "pygments_lexer": "ipython3",
   "version": "3.8.3"
  }
 },
 "nbformat": 4,
 "nbformat_minor": 4
}
